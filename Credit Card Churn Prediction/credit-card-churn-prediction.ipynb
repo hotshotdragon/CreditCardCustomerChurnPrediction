{
 "cells": [
  {
   "cell_type": "code",
   "execution_count": 1,
   "metadata": {
    "_cell_guid": "b1076dfc-b9ad-4769-8c92-a6c4dae69d19",
    "_uuid": "8f2839f25d086af736a60e9eeb907d3b93b6e0e5",
    "execution": {
     "iopub.execute_input": "2021-02-10T17:17:23.870739Z",
     "iopub.status.busy": "2021-02-10T17:17:23.869713Z",
     "iopub.status.idle": "2021-02-10T17:17:25.624693Z",
     "shell.execute_reply": "2021-02-10T17:17:25.625362Z"
    },
    "papermill": {
     "duration": 1.842161,
     "end_time": "2021-02-10T17:17:25.625815",
     "exception": false,
     "start_time": "2021-02-10T17:17:23.783654",
     "status": "completed"
    },
    "tags": []
   },
   "outputs": [
    {
     "name": "stdout",
     "output_type": "stream",
     "text": [
      "/kaggle/input/credit-card-customers/BankChurners.csv\n"
     ]
    }
   ],
   "source": [
    "# This Python 3 environment comes with many helpful analytics libraries installed\n",
    "# It is defined by the kaggle/python Docker image: https://github.com/kaggle/docker-python\n",
    "# For example, here's several helpful packages to load\n",
    "\n",
    "import numpy as np # linear algebra\n",
    "import pandas as pd # data processing, CSV file I/O (e.g. pd.read_csv)\n",
    "import seaborn as sns\n",
    "import matplotlib.pyplot as plt\n",
    "\n",
    "from imblearn.over_sampling import SMOTE as sm\n",
    "from sklearn.preprocessing import StandardScaler\n",
    "\n",
    "from sklearn.linear_model import LogisticRegression \n",
    "from sklearn.neighbors import KNeighborsClassifier\n",
    "from sklearn.tree import DecisionTreeClassifier\n",
    "from sklearn.ensemble import RandomForestClassifier\n",
    "from sklearn.svm import SVC\n",
    "\n",
    "from sklearn.model_selection import GridSearchCV\n",
    "from sklearn.model_selection import cross_val_predict, cross_val_score\n",
    "from sklearn.metrics import precision_score, recall_score, confusion_matrix \n",
    "from sklearn.metrics import f1_score,precision_recall_curve, roc_curve,  roc_auc_score, accuracy_score\n",
    "\n",
    "\n",
    "# Input data files are available in the read-only \"../input/\" directory\n",
    "# For example, running this (by clicking run or pressing Shift+Enter) will list all files under the input directory\n",
    "\n",
    "import os\n",
    "for dirname, _, filenames in os.walk('/kaggle/input'):\n",
    "    for filename in filenames:\n",
    "        print(os.path.join(dirname, filename))\n",
    "\n",
    "# You can write up to 20GB to the current directory (/kaggle/working/) that gets preserved as output when you create a version using \"Save & Run All\" \n",
    "# You can also write temporary files to /kaggle/temp/, but they won't be saved outside of the current session"
   ]
  },
  {
   "cell_type": "code",
   "execution_count": 2,
   "metadata": {
    "execution": {
     "iopub.execute_input": "2021-02-10T17:17:25.730101Z",
     "iopub.status.busy": "2021-02-10T17:17:25.729285Z",
     "iopub.status.idle": "2021-02-10T17:17:25.864710Z",
     "shell.execute_reply": "2021-02-10T17:17:25.864024Z"
    },
    "papermill": {
     "duration": 0.190878,
     "end_time": "2021-02-10T17:17:25.864856",
     "exception": false,
     "start_time": "2021-02-10T17:17:25.673978",
     "status": "completed"
    },
    "tags": []
   },
   "outputs": [
    {
     "data": {
      "text/html": [
       "<div>\n",
       "<style scoped>\n",
       "    .dataframe tbody tr th:only-of-type {\n",
       "        vertical-align: middle;\n",
       "    }\n",
       "\n",
       "    .dataframe tbody tr th {\n",
       "        vertical-align: top;\n",
       "    }\n",
       "\n",
       "    .dataframe thead th {\n",
       "        text-align: right;\n",
       "    }\n",
       "</style>\n",
       "<table border=\"1\" class=\"dataframe\">\n",
       "  <thead>\n",
       "    <tr style=\"text-align: right;\">\n",
       "      <th></th>\n",
       "      <th>CLIENTNUM</th>\n",
       "      <th>Attrition_Flag</th>\n",
       "      <th>Customer_Age</th>\n",
       "      <th>Gender</th>\n",
       "      <th>Dependent_count</th>\n",
       "      <th>Education_Level</th>\n",
       "      <th>Marital_Status</th>\n",
       "      <th>Income_Category</th>\n",
       "      <th>Card_Category</th>\n",
       "      <th>Months_on_book</th>\n",
       "      <th>...</th>\n",
       "      <th>Credit_Limit</th>\n",
       "      <th>Total_Revolving_Bal</th>\n",
       "      <th>Avg_Open_To_Buy</th>\n",
       "      <th>Total_Amt_Chng_Q4_Q1</th>\n",
       "      <th>Total_Trans_Amt</th>\n",
       "      <th>Total_Trans_Ct</th>\n",
       "      <th>Total_Ct_Chng_Q4_Q1</th>\n",
       "      <th>Avg_Utilization_Ratio</th>\n",
       "      <th>Naive_Bayes_Classifier_Attrition_Flag_Card_Category_Contacts_Count_12_mon_Dependent_count_Education_Level_Months_Inactive_12_mon_1</th>\n",
       "      <th>Naive_Bayes_Classifier_Attrition_Flag_Card_Category_Contacts_Count_12_mon_Dependent_count_Education_Level_Months_Inactive_12_mon_2</th>\n",
       "    </tr>\n",
       "  </thead>\n",
       "  <tbody>\n",
       "    <tr>\n",
       "      <th>0</th>\n",
       "      <td>768805383</td>\n",
       "      <td>Existing Customer</td>\n",
       "      <td>45</td>\n",
       "      <td>M</td>\n",
       "      <td>3</td>\n",
       "      <td>High School</td>\n",
       "      <td>Married</td>\n",
       "      <td>$60K - $80K</td>\n",
       "      <td>Blue</td>\n",
       "      <td>39</td>\n",
       "      <td>...</td>\n",
       "      <td>12691.0</td>\n",
       "      <td>777</td>\n",
       "      <td>11914.0</td>\n",
       "      <td>1.335</td>\n",
       "      <td>1144</td>\n",
       "      <td>42</td>\n",
       "      <td>1.625</td>\n",
       "      <td>0.061</td>\n",
       "      <td>0.000093</td>\n",
       "      <td>0.99991</td>\n",
       "    </tr>\n",
       "    <tr>\n",
       "      <th>1</th>\n",
       "      <td>818770008</td>\n",
       "      <td>Existing Customer</td>\n",
       "      <td>49</td>\n",
       "      <td>F</td>\n",
       "      <td>5</td>\n",
       "      <td>Graduate</td>\n",
       "      <td>Single</td>\n",
       "      <td>Less than $40K</td>\n",
       "      <td>Blue</td>\n",
       "      <td>44</td>\n",
       "      <td>...</td>\n",
       "      <td>8256.0</td>\n",
       "      <td>864</td>\n",
       "      <td>7392.0</td>\n",
       "      <td>1.541</td>\n",
       "      <td>1291</td>\n",
       "      <td>33</td>\n",
       "      <td>3.714</td>\n",
       "      <td>0.105</td>\n",
       "      <td>0.000057</td>\n",
       "      <td>0.99994</td>\n",
       "    </tr>\n",
       "  </tbody>\n",
       "</table>\n",
       "<p>2 rows × 23 columns</p>\n",
       "</div>"
      ],
      "text/plain": [
       "   CLIENTNUM     Attrition_Flag  Customer_Age Gender  Dependent_count  \\\n",
       "0  768805383  Existing Customer            45      M                3   \n",
       "1  818770008  Existing Customer            49      F                5   \n",
       "\n",
       "  Education_Level Marital_Status Income_Category Card_Category  \\\n",
       "0     High School        Married     $60K - $80K          Blue   \n",
       "1        Graduate         Single  Less than $40K          Blue   \n",
       "\n",
       "   Months_on_book  ...  Credit_Limit  Total_Revolving_Bal  Avg_Open_To_Buy  \\\n",
       "0              39  ...       12691.0                  777          11914.0   \n",
       "1              44  ...        8256.0                  864           7392.0   \n",
       "\n",
       "   Total_Amt_Chng_Q4_Q1  Total_Trans_Amt  Total_Trans_Ct  Total_Ct_Chng_Q4_Q1  \\\n",
       "0                 1.335             1144              42                1.625   \n",
       "1                 1.541             1291              33                3.714   \n",
       "\n",
       "   Avg_Utilization_Ratio  \\\n",
       "0                  0.061   \n",
       "1                  0.105   \n",
       "\n",
       "   Naive_Bayes_Classifier_Attrition_Flag_Card_Category_Contacts_Count_12_mon_Dependent_count_Education_Level_Months_Inactive_12_mon_1  \\\n",
       "0                                           0.000093                                                                                    \n",
       "1                                           0.000057                                                                                    \n",
       "\n",
       "   Naive_Bayes_Classifier_Attrition_Flag_Card_Category_Contacts_Count_12_mon_Dependent_count_Education_Level_Months_Inactive_12_mon_2  \n",
       "0                                            0.99991                                                                                   \n",
       "1                                            0.99994                                                                                   \n",
       "\n",
       "[2 rows x 23 columns]"
      ]
     },
     "execution_count": 2,
     "metadata": {},
     "output_type": "execute_result"
    }
   ],
   "source": [
    "df = pd.read_csv(\"../input/credit-card-customers/BankChurners.csv\")\n",
    "df.head(2)"
   ]
  },
  {
   "cell_type": "code",
   "execution_count": 3,
   "metadata": {
    "execution": {
     "iopub.execute_input": "2021-02-10T17:17:25.971734Z",
     "iopub.status.busy": "2021-02-10T17:17:25.970767Z",
     "iopub.status.idle": "2021-02-10T17:17:25.980506Z",
     "shell.execute_reply": "2021-02-10T17:17:25.979779Z"
    },
    "papermill": {
     "duration": 0.067776,
     "end_time": "2021-02-10T17:17:25.980653",
     "exception": false,
     "start_time": "2021-02-10T17:17:25.912877",
     "status": "completed"
    },
    "tags": []
   },
   "outputs": [
    {
     "name": "stdout",
     "output_type": "stream",
     "text": [
      "['High School' 'Graduate' 'Uneducated' 'Unknown' 'College' 'Post-Graduate'\n",
      " 'Doctorate']\n",
      "['Married' 'Single' 'Unknown' 'Divorced']\n",
      "['Blue' 'Gold' 'Silver' 'Platinum']\n",
      "['$60K - $80K' 'Less than $40K' '$80K - $120K' '$40K - $60K' '$120K +'\n",
      " 'Unknown']\n"
     ]
    }
   ],
   "source": [
    "print(df['Education_Level'].unique())\n",
    "print(df['Marital_Status'].unique())\n",
    "print(df['Card_Category'].unique())\n",
    "print(df['Income_Category'].unique())"
   ]
  },
  {
   "cell_type": "code",
   "execution_count": 4,
   "metadata": {
    "execution": {
     "iopub.execute_input": "2021-02-10T17:17:26.088608Z",
     "iopub.status.busy": "2021-02-10T17:17:26.087852Z",
     "iopub.status.idle": "2021-02-10T17:17:26.095949Z",
     "shell.execute_reply": "2021-02-10T17:17:26.095231Z"
    },
    "papermill": {
     "duration": 0.067514,
     "end_time": "2021-02-10T17:17:26.096100",
     "exception": false,
     "start_time": "2021-02-10T17:17:26.028586",
     "status": "completed"
    },
    "tags": []
   },
   "outputs": [],
   "source": [
    "df.drop(['Naive_Bayes_Classifier_Attrition_Flag_Card_Category_Contacts_Count_12_mon_Dependent_count_Education_Level_Months_Inactive_12_mon_2'],axis=1, inplace=True)\n",
    "df.drop(['Naive_Bayes_Classifier_Attrition_Flag_Card_Category_Contacts_Count_12_mon_Dependent_count_Education_Level_Months_Inactive_12_mon_1'],axis=1, inplace=True)\n",
    "df.drop(['CLIENTNUM'],axis=1, inplace=True)"
   ]
  },
  {
   "cell_type": "markdown",
   "metadata": {
    "papermill": {
     "duration": 0.047888,
     "end_time": "2021-02-10T17:17:26.192930",
     "exception": false,
     "start_time": "2021-02-10T17:17:26.145042",
     "status": "completed"
    },
    "tags": []
   },
   "source": [
    "# EDA"
   ]
  },
  {
   "cell_type": "code",
   "execution_count": 5,
   "metadata": {
    "execution": {
     "iopub.execute_input": "2021-02-10T17:17:26.305759Z",
     "iopub.status.busy": "2021-02-10T17:17:26.305060Z",
     "iopub.status.idle": "2021-02-10T17:17:26.459547Z",
     "shell.execute_reply": "2021-02-10T17:17:26.458272Z"
    },
    "papermill": {
     "duration": 0.217286,
     "end_time": "2021-02-10T17:17:26.459772",
     "exception": false,
     "start_time": "2021-02-10T17:17:26.242486",
     "status": "completed"
    },
    "tags": []
   },
   "outputs": [
    {
     "data": {
      "text/html": [
       "<div>\n",
       "<style scoped>\n",
       "    .dataframe tbody tr th:only-of-type {\n",
       "        vertical-align: middle;\n",
       "    }\n",
       "\n",
       "    .dataframe tbody tr th {\n",
       "        vertical-align: top;\n",
       "    }\n",
       "\n",
       "    .dataframe thead th {\n",
       "        text-align: right;\n",
       "    }\n",
       "</style>\n",
       "<table border=\"1\" class=\"dataframe\">\n",
       "  <thead>\n",
       "    <tr style=\"text-align: right;\">\n",
       "      <th></th>\n",
       "      <th>count</th>\n",
       "      <th>unique</th>\n",
       "      <th>top</th>\n",
       "      <th>freq</th>\n",
       "      <th>mean</th>\n",
       "      <th>std</th>\n",
       "      <th>min</th>\n",
       "      <th>25%</th>\n",
       "      <th>50%</th>\n",
       "      <th>75%</th>\n",
       "      <th>max</th>\n",
       "    </tr>\n",
       "  </thead>\n",
       "  <tbody>\n",
       "    <tr>\n",
       "      <th>Attrition_Flag</th>\n",
       "      <td>10127</td>\n",
       "      <td>2</td>\n",
       "      <td>Existing Customer</td>\n",
       "      <td>8500</td>\n",
       "      <td>NaN</td>\n",
       "      <td>NaN</td>\n",
       "      <td>NaN</td>\n",
       "      <td>NaN</td>\n",
       "      <td>NaN</td>\n",
       "      <td>NaN</td>\n",
       "      <td>NaN</td>\n",
       "    </tr>\n",
       "    <tr>\n",
       "      <th>Customer_Age</th>\n",
       "      <td>10127.0</td>\n",
       "      <td>NaN</td>\n",
       "      <td>NaN</td>\n",
       "      <td>NaN</td>\n",
       "      <td>46.325960</td>\n",
       "      <td>8.016814</td>\n",
       "      <td>26.0</td>\n",
       "      <td>41.000</td>\n",
       "      <td>46.000</td>\n",
       "      <td>52.000</td>\n",
       "      <td>73.000</td>\n",
       "    </tr>\n",
       "    <tr>\n",
       "      <th>Gender</th>\n",
       "      <td>10127</td>\n",
       "      <td>2</td>\n",
       "      <td>F</td>\n",
       "      <td>5358</td>\n",
       "      <td>NaN</td>\n",
       "      <td>NaN</td>\n",
       "      <td>NaN</td>\n",
       "      <td>NaN</td>\n",
       "      <td>NaN</td>\n",
       "      <td>NaN</td>\n",
       "      <td>NaN</td>\n",
       "    </tr>\n",
       "    <tr>\n",
       "      <th>Dependent_count</th>\n",
       "      <td>10127.0</td>\n",
       "      <td>NaN</td>\n",
       "      <td>NaN</td>\n",
       "      <td>NaN</td>\n",
       "      <td>2.346203</td>\n",
       "      <td>1.298908</td>\n",
       "      <td>0.0</td>\n",
       "      <td>1.000</td>\n",
       "      <td>2.000</td>\n",
       "      <td>3.000</td>\n",
       "      <td>5.000</td>\n",
       "    </tr>\n",
       "    <tr>\n",
       "      <th>Education_Level</th>\n",
       "      <td>10127</td>\n",
       "      <td>7</td>\n",
       "      <td>Graduate</td>\n",
       "      <td>3128</td>\n",
       "      <td>NaN</td>\n",
       "      <td>NaN</td>\n",
       "      <td>NaN</td>\n",
       "      <td>NaN</td>\n",
       "      <td>NaN</td>\n",
       "      <td>NaN</td>\n",
       "      <td>NaN</td>\n",
       "    </tr>\n",
       "    <tr>\n",
       "      <th>Marital_Status</th>\n",
       "      <td>10127</td>\n",
       "      <td>4</td>\n",
       "      <td>Married</td>\n",
       "      <td>4687</td>\n",
       "      <td>NaN</td>\n",
       "      <td>NaN</td>\n",
       "      <td>NaN</td>\n",
       "      <td>NaN</td>\n",
       "      <td>NaN</td>\n",
       "      <td>NaN</td>\n",
       "      <td>NaN</td>\n",
       "    </tr>\n",
       "    <tr>\n",
       "      <th>Income_Category</th>\n",
       "      <td>10127</td>\n",
       "      <td>6</td>\n",
       "      <td>Less than $40K</td>\n",
       "      <td>3561</td>\n",
       "      <td>NaN</td>\n",
       "      <td>NaN</td>\n",
       "      <td>NaN</td>\n",
       "      <td>NaN</td>\n",
       "      <td>NaN</td>\n",
       "      <td>NaN</td>\n",
       "      <td>NaN</td>\n",
       "    </tr>\n",
       "    <tr>\n",
       "      <th>Card_Category</th>\n",
       "      <td>10127</td>\n",
       "      <td>4</td>\n",
       "      <td>Blue</td>\n",
       "      <td>9436</td>\n",
       "      <td>NaN</td>\n",
       "      <td>NaN</td>\n",
       "      <td>NaN</td>\n",
       "      <td>NaN</td>\n",
       "      <td>NaN</td>\n",
       "      <td>NaN</td>\n",
       "      <td>NaN</td>\n",
       "    </tr>\n",
       "    <tr>\n",
       "      <th>Months_on_book</th>\n",
       "      <td>10127.0</td>\n",
       "      <td>NaN</td>\n",
       "      <td>NaN</td>\n",
       "      <td>NaN</td>\n",
       "      <td>35.928409</td>\n",
       "      <td>7.986416</td>\n",
       "      <td>13.0</td>\n",
       "      <td>31.000</td>\n",
       "      <td>36.000</td>\n",
       "      <td>40.000</td>\n",
       "      <td>56.000</td>\n",
       "    </tr>\n",
       "    <tr>\n",
       "      <th>Total_Relationship_Count</th>\n",
       "      <td>10127.0</td>\n",
       "      <td>NaN</td>\n",
       "      <td>NaN</td>\n",
       "      <td>NaN</td>\n",
       "      <td>3.812580</td>\n",
       "      <td>1.554408</td>\n",
       "      <td>1.0</td>\n",
       "      <td>3.000</td>\n",
       "      <td>4.000</td>\n",
       "      <td>5.000</td>\n",
       "      <td>6.000</td>\n",
       "    </tr>\n",
       "    <tr>\n",
       "      <th>Months_Inactive_12_mon</th>\n",
       "      <td>10127.0</td>\n",
       "      <td>NaN</td>\n",
       "      <td>NaN</td>\n",
       "      <td>NaN</td>\n",
       "      <td>2.341167</td>\n",
       "      <td>1.010622</td>\n",
       "      <td>0.0</td>\n",
       "      <td>2.000</td>\n",
       "      <td>2.000</td>\n",
       "      <td>3.000</td>\n",
       "      <td>6.000</td>\n",
       "    </tr>\n",
       "    <tr>\n",
       "      <th>Contacts_Count_12_mon</th>\n",
       "      <td>10127.0</td>\n",
       "      <td>NaN</td>\n",
       "      <td>NaN</td>\n",
       "      <td>NaN</td>\n",
       "      <td>2.455317</td>\n",
       "      <td>1.106225</td>\n",
       "      <td>0.0</td>\n",
       "      <td>2.000</td>\n",
       "      <td>2.000</td>\n",
       "      <td>3.000</td>\n",
       "      <td>6.000</td>\n",
       "    </tr>\n",
       "    <tr>\n",
       "      <th>Credit_Limit</th>\n",
       "      <td>10127.0</td>\n",
       "      <td>NaN</td>\n",
       "      <td>NaN</td>\n",
       "      <td>NaN</td>\n",
       "      <td>8631.953698</td>\n",
       "      <td>9088.776650</td>\n",
       "      <td>1438.3</td>\n",
       "      <td>2555.000</td>\n",
       "      <td>4549.000</td>\n",
       "      <td>11067.500</td>\n",
       "      <td>34516.000</td>\n",
       "    </tr>\n",
       "    <tr>\n",
       "      <th>Total_Revolving_Bal</th>\n",
       "      <td>10127.0</td>\n",
       "      <td>NaN</td>\n",
       "      <td>NaN</td>\n",
       "      <td>NaN</td>\n",
       "      <td>1162.814061</td>\n",
       "      <td>814.987335</td>\n",
       "      <td>0.0</td>\n",
       "      <td>359.000</td>\n",
       "      <td>1276.000</td>\n",
       "      <td>1784.000</td>\n",
       "      <td>2517.000</td>\n",
       "    </tr>\n",
       "    <tr>\n",
       "      <th>Avg_Open_To_Buy</th>\n",
       "      <td>10127.0</td>\n",
       "      <td>NaN</td>\n",
       "      <td>NaN</td>\n",
       "      <td>NaN</td>\n",
       "      <td>7469.139637</td>\n",
       "      <td>9090.685324</td>\n",
       "      <td>3.0</td>\n",
       "      <td>1324.500</td>\n",
       "      <td>3474.000</td>\n",
       "      <td>9859.000</td>\n",
       "      <td>34516.000</td>\n",
       "    </tr>\n",
       "    <tr>\n",
       "      <th>Total_Amt_Chng_Q4_Q1</th>\n",
       "      <td>10127.0</td>\n",
       "      <td>NaN</td>\n",
       "      <td>NaN</td>\n",
       "      <td>NaN</td>\n",
       "      <td>0.759941</td>\n",
       "      <td>0.219207</td>\n",
       "      <td>0.0</td>\n",
       "      <td>0.631</td>\n",
       "      <td>0.736</td>\n",
       "      <td>0.859</td>\n",
       "      <td>3.397</td>\n",
       "    </tr>\n",
       "    <tr>\n",
       "      <th>Total_Trans_Amt</th>\n",
       "      <td>10127.0</td>\n",
       "      <td>NaN</td>\n",
       "      <td>NaN</td>\n",
       "      <td>NaN</td>\n",
       "      <td>4404.086304</td>\n",
       "      <td>3397.129254</td>\n",
       "      <td>510.0</td>\n",
       "      <td>2155.500</td>\n",
       "      <td>3899.000</td>\n",
       "      <td>4741.000</td>\n",
       "      <td>18484.000</td>\n",
       "    </tr>\n",
       "    <tr>\n",
       "      <th>Total_Trans_Ct</th>\n",
       "      <td>10127.0</td>\n",
       "      <td>NaN</td>\n",
       "      <td>NaN</td>\n",
       "      <td>NaN</td>\n",
       "      <td>64.858695</td>\n",
       "      <td>23.472570</td>\n",
       "      <td>10.0</td>\n",
       "      <td>45.000</td>\n",
       "      <td>67.000</td>\n",
       "      <td>81.000</td>\n",
       "      <td>139.000</td>\n",
       "    </tr>\n",
       "    <tr>\n",
       "      <th>Total_Ct_Chng_Q4_Q1</th>\n",
       "      <td>10127.0</td>\n",
       "      <td>NaN</td>\n",
       "      <td>NaN</td>\n",
       "      <td>NaN</td>\n",
       "      <td>0.712222</td>\n",
       "      <td>0.238086</td>\n",
       "      <td>0.0</td>\n",
       "      <td>0.582</td>\n",
       "      <td>0.702</td>\n",
       "      <td>0.818</td>\n",
       "      <td>3.714</td>\n",
       "    </tr>\n",
       "    <tr>\n",
       "      <th>Avg_Utilization_Ratio</th>\n",
       "      <td>10127.0</td>\n",
       "      <td>NaN</td>\n",
       "      <td>NaN</td>\n",
       "      <td>NaN</td>\n",
       "      <td>0.274894</td>\n",
       "      <td>0.275691</td>\n",
       "      <td>0.0</td>\n",
       "      <td>0.023</td>\n",
       "      <td>0.176</td>\n",
       "      <td>0.503</td>\n",
       "      <td>0.999</td>\n",
       "    </tr>\n",
       "  </tbody>\n",
       "</table>\n",
       "</div>"
      ],
      "text/plain": [
       "                            count unique                top  freq  \\\n",
       "Attrition_Flag              10127      2  Existing Customer  8500   \n",
       "Customer_Age              10127.0    NaN                NaN   NaN   \n",
       "Gender                      10127      2                  F  5358   \n",
       "Dependent_count           10127.0    NaN                NaN   NaN   \n",
       "Education_Level             10127      7           Graduate  3128   \n",
       "Marital_Status              10127      4            Married  4687   \n",
       "Income_Category             10127      6     Less than $40K  3561   \n",
       "Card_Category               10127      4               Blue  9436   \n",
       "Months_on_book            10127.0    NaN                NaN   NaN   \n",
       "Total_Relationship_Count  10127.0    NaN                NaN   NaN   \n",
       "Months_Inactive_12_mon    10127.0    NaN                NaN   NaN   \n",
       "Contacts_Count_12_mon     10127.0    NaN                NaN   NaN   \n",
       "Credit_Limit              10127.0    NaN                NaN   NaN   \n",
       "Total_Revolving_Bal       10127.0    NaN                NaN   NaN   \n",
       "Avg_Open_To_Buy           10127.0    NaN                NaN   NaN   \n",
       "Total_Amt_Chng_Q4_Q1      10127.0    NaN                NaN   NaN   \n",
       "Total_Trans_Amt           10127.0    NaN                NaN   NaN   \n",
       "Total_Trans_Ct            10127.0    NaN                NaN   NaN   \n",
       "Total_Ct_Chng_Q4_Q1       10127.0    NaN                NaN   NaN   \n",
       "Avg_Utilization_Ratio     10127.0    NaN                NaN   NaN   \n",
       "\n",
       "                                 mean          std     min       25%  \\\n",
       "Attrition_Flag                    NaN          NaN     NaN       NaN   \n",
       "Customer_Age                46.325960     8.016814    26.0    41.000   \n",
       "Gender                            NaN          NaN     NaN       NaN   \n",
       "Dependent_count              2.346203     1.298908     0.0     1.000   \n",
       "Education_Level                   NaN          NaN     NaN       NaN   \n",
       "Marital_Status                    NaN          NaN     NaN       NaN   \n",
       "Income_Category                   NaN          NaN     NaN       NaN   \n",
       "Card_Category                     NaN          NaN     NaN       NaN   \n",
       "Months_on_book              35.928409     7.986416    13.0    31.000   \n",
       "Total_Relationship_Count     3.812580     1.554408     1.0     3.000   \n",
       "Months_Inactive_12_mon       2.341167     1.010622     0.0     2.000   \n",
       "Contacts_Count_12_mon        2.455317     1.106225     0.0     2.000   \n",
       "Credit_Limit              8631.953698  9088.776650  1438.3  2555.000   \n",
       "Total_Revolving_Bal       1162.814061   814.987335     0.0   359.000   \n",
       "Avg_Open_To_Buy           7469.139637  9090.685324     3.0  1324.500   \n",
       "Total_Amt_Chng_Q4_Q1         0.759941     0.219207     0.0     0.631   \n",
       "Total_Trans_Amt           4404.086304  3397.129254   510.0  2155.500   \n",
       "Total_Trans_Ct              64.858695    23.472570    10.0    45.000   \n",
       "Total_Ct_Chng_Q4_Q1          0.712222     0.238086     0.0     0.582   \n",
       "Avg_Utilization_Ratio        0.274894     0.275691     0.0     0.023   \n",
       "\n",
       "                               50%        75%        max  \n",
       "Attrition_Flag                 NaN        NaN        NaN  \n",
       "Customer_Age                46.000     52.000     73.000  \n",
       "Gender                         NaN        NaN        NaN  \n",
       "Dependent_count              2.000      3.000      5.000  \n",
       "Education_Level                NaN        NaN        NaN  \n",
       "Marital_Status                 NaN        NaN        NaN  \n",
       "Income_Category                NaN        NaN        NaN  \n",
       "Card_Category                  NaN        NaN        NaN  \n",
       "Months_on_book              36.000     40.000     56.000  \n",
       "Total_Relationship_Count     4.000      5.000      6.000  \n",
       "Months_Inactive_12_mon       2.000      3.000      6.000  \n",
       "Contacts_Count_12_mon        2.000      3.000      6.000  \n",
       "Credit_Limit              4549.000  11067.500  34516.000  \n",
       "Total_Revolving_Bal       1276.000   1784.000   2517.000  \n",
       "Avg_Open_To_Buy           3474.000   9859.000  34516.000  \n",
       "Total_Amt_Chng_Q4_Q1         0.736      0.859      3.397  \n",
       "Total_Trans_Amt           3899.000   4741.000  18484.000  \n",
       "Total_Trans_Ct              67.000     81.000    139.000  \n",
       "Total_Ct_Chng_Q4_Q1          0.702      0.818      3.714  \n",
       "Avg_Utilization_Ratio        0.176      0.503      0.999  "
      ]
     },
     "execution_count": 5,
     "metadata": {},
     "output_type": "execute_result"
    }
   ],
   "source": [
    "df.describe(include='all').T"
   ]
  },
  {
   "cell_type": "code",
   "execution_count": 6,
   "metadata": {
    "execution": {
     "iopub.execute_input": "2021-02-10T17:17:26.581014Z",
     "iopub.status.busy": "2021-02-10T17:17:26.580003Z",
     "iopub.status.idle": "2021-02-10T17:17:27.073399Z",
     "shell.execute_reply": "2021-02-10T17:17:27.072692Z"
    },
    "papermill": {
     "duration": 0.552061,
     "end_time": "2021-02-10T17:17:27.073552",
     "exception": false,
     "start_time": "2021-02-10T17:17:26.521491",
     "status": "completed"
    },
    "tags": []
   },
   "outputs": [
    {
     "data": {
      "image/png": "[encoded data removed]",
      "text/plain": [
       "<Figure size 432x288 with 1 Axes>"
      ]
     },
     "metadata": {
      "needs_background": "light"
     },
     "output_type": "display_data"
    }
   ],
   "source": [
    "# Checking for null values\n",
    "\n",
    "sns.heatmap(df.isnull(), yticklabels = False, cbar = False, cmap=\"Blues\")\n",
    "plt.show()"
   ]
  },
  {
   "cell_type": "code",
   "execution_count": 7,
   "metadata": {
    "execution": {
     "iopub.execute_input": "2021-02-10T17:17:27.195773Z",
     "iopub.status.busy": "2021-02-10T17:17:27.190830Z",
     "iopub.status.idle": "2021-02-10T17:17:27.332422Z",
     "shell.execute_reply": "2021-02-10T17:17:27.333033Z"
    },
    "papermill": {
     "duration": 0.207948,
     "end_time": "2021-02-10T17:17:27.333230",
     "exception": false,
     "start_time": "2021-02-10T17:17:27.125282",
     "status": "completed"
    },
    "tags": []
   },
   "outputs": [
    {
     "data": {
      "image/png": "[encoded data removed]",
      "text/plain": [
       "<Figure size 432x288 with 1 Axes>"
      ]
     },
     "metadata": {
      "needs_background": "light"
     },
     "output_type": "display_data"
    }
   ],
   "source": [
    "sns.countplot(x='Attrition_Flag',data = df, label = 'Counts')\n",
    "plt.show()"
   ]
  },
  {
   "cell_type": "code",
   "execution_count": 8,
   "metadata": {
    "execution": {
     "iopub.execute_input": "2021-02-10T17:17:27.452057Z",
     "iopub.status.busy": "2021-02-10T17:17:27.451395Z",
     "iopub.status.idle": "2021-02-10T17:17:27.624158Z",
     "shell.execute_reply": "2021-02-10T17:17:27.624711Z"
    },
    "papermill": {
     "duration": 0.239388,
     "end_time": "2021-02-10T17:17:27.624893",
     "exception": false,
     "start_time": "2021-02-10T17:17:27.385505",
     "status": "completed"
    },
    "tags": []
   },
   "outputs": [
    {
     "data": {
      "image/png": "[encoded data removed]",
      "text/plain": [
       "<Figure size 432x288 with 1 Axes>"
      ]
     },
     "metadata": {
      "needs_background": "light"
     },
     "output_type": "display_data"
    }
   ],
   "source": [
    "sns.countplot(x='Gender',data = df, hue='Attrition_Flag')\n",
    "plt.show()"
   ]
  },
  {
   "cell_type": "code",
   "execution_count": 9,
   "metadata": {
    "execution": {
     "iopub.execute_input": "2021-02-10T17:17:27.749481Z",
     "iopub.status.busy": "2021-02-10T17:17:27.748750Z",
     "iopub.status.idle": "2021-02-10T17:17:27.958298Z",
     "shell.execute_reply": "2021-02-10T17:17:27.958798Z"
    },
    "papermill": {
     "duration": 0.281704,
     "end_time": "2021-02-10T17:17:27.958988",
     "exception": false,
     "start_time": "2021-02-10T17:17:27.677284",
     "status": "completed"
    },
    "tags": []
   },
   "outputs": [
    {
     "data": {
      "image/png": "[encoded data removed]",
      "text/plain": [
       "<Figure size 432x288 with 1 Axes>"
      ]
     },
     "metadata": {
      "needs_background": "light"
     },
     "output_type": "display_data"
    }
   ],
   "source": [
    "sns.countplot(x='Marital_Status',data = df, hue='Attrition_Flag')\n",
    "plt.show()"
   ]
  },
  {
   "cell_type": "code",
   "execution_count": 10,
   "metadata": {
    "execution": {
     "iopub.execute_input": "2021-02-10T17:17:28.072301Z",
     "iopub.status.busy": "2021-02-10T17:17:28.071325Z",
     "iopub.status.idle": "2021-02-10T17:17:28.951661Z",
     "shell.execute_reply": "2021-02-10T17:17:28.952384Z"
    },
    "papermill": {
     "duration": 0.941018,
     "end_time": "2021-02-10T17:17:28.952572",
     "exception": false,
     "start_time": "2021-02-10T17:17:28.011554",
     "status": "completed"
    },
    "tags": []
   },
   "outputs": [
    {
     "data": {
      "image/png": "[encoded data removed]",
      "text/plain": [
       "<Figure size 1080x576 with 1 Axes>"
      ]
     },
     "metadata": {
      "needs_background": "light"
     },
     "output_type": "display_data"
    }
   ],
   "source": [
    "plt.figure(figsize=[15,8])\n",
    "sns.countplot(x='Customer_Age',data = df, hue='Attrition_Flag')\n",
    "plt.show()"
   ]
  },
  {
   "cell_type": "code",
   "execution_count": 11,
   "metadata": {
    "execution": {
     "iopub.execute_input": "2021-02-10T17:17:29.072839Z",
     "iopub.status.busy": "2021-02-10T17:17:29.071998Z",
     "iopub.status.idle": "2021-02-10T17:17:29.246762Z",
     "shell.execute_reply": "2021-02-10T17:17:29.245937Z"
    },
    "papermill": {
     "duration": 0.237513,
     "end_time": "2021-02-10T17:17:29.246918",
     "exception": false,
     "start_time": "2021-02-10T17:17:29.009405",
     "status": "completed"
    },
    "tags": []
   },
   "outputs": [
    {
     "data": {
      "text/plain": [
       "<AxesSubplot:>"
      ]
     },
     "execution_count": 11,
     "metadata": {},
     "output_type": "execute_result"
    },
    {
     "data": {
      "image/png": "[encoded data removed]",
      "text/plain": [
       "<Figure size 432x288 with 1 Axes>"
      ]
     },
     "metadata": {
      "needs_background": "light"
     },
     "output_type": "display_data"
    }
   ],
   "source": [
    "df['Dependent_count'].hist(bins=5)"
   ]
  },
  {
   "cell_type": "code",
   "execution_count": 12,
   "metadata": {
    "execution": {
     "iopub.execute_input": "2021-02-10T17:17:29.380934Z",
     "iopub.status.busy": "2021-02-10T17:17:29.379823Z",
     "iopub.status.idle": "2021-02-10T17:17:29.591300Z",
     "shell.execute_reply": "2021-02-10T17:17:29.590327Z"
    },
    "papermill": {
     "duration": 0.285595,
     "end_time": "2021-02-10T17:17:29.591470",
     "exception": false,
     "start_time": "2021-02-10T17:17:29.305875",
     "status": "completed"
    },
    "tags": []
   },
   "outputs": [
    {
     "data": {
      "image/png": "[encoded data removed]",
      "text/plain": [
       "<Figure size 432x288 with 1 Axes>"
      ]
     },
     "metadata": {
      "needs_background": "light"
     },
     "output_type": "display_data"
    }
   ],
   "source": [
    "sns.countplot(x='Card_Category',data = df, hue='Attrition_Flag')\n",
    "plt.show()"
   ]
  },
  {
   "cell_type": "code",
   "execution_count": 13,
   "metadata": {
    "execution": {
     "iopub.execute_input": "2021-02-10T17:17:29.722421Z",
     "iopub.status.busy": "2021-02-10T17:17:29.721554Z",
     "iopub.status.idle": "2021-02-10T17:17:30.336654Z",
     "shell.execute_reply": "2021-02-10T17:17:30.335739Z"
    },
    "papermill": {
     "duration": 0.687216,
     "end_time": "2021-02-10T17:17:30.336836",
     "exception": false,
     "start_time": "2021-02-10T17:17:29.649620",
     "status": "completed"
    },
    "tags": []
   },
   "outputs": [
    {
     "data": {
      "image/png": "[encoded data removed]",
      "text/plain": [
       "<Figure size 576x576 with 1 Axes>"
      ]
     },
     "metadata": {
      "needs_background": "light"
     },
     "output_type": "display_data"
    }
   ],
   "source": [
    "plt.figure(figsize=[8,8])\n",
    "sns.countplot(x='Income_Category',data = df, hue='Attrition_Flag')\n",
    "plt.show()"
   ]
  },
  {
   "cell_type": "code",
   "execution_count": 14,
   "metadata": {
    "execution": {
     "iopub.execute_input": "2021-02-10T17:17:30.479324Z",
     "iopub.status.busy": "2021-02-10T17:17:30.473515Z",
     "iopub.status.idle": "2021-02-10T17:17:30.721225Z",
     "shell.execute_reply": "2021-02-10T17:17:30.720586Z"
    },
    "papermill": {
     "duration": 0.325413,
     "end_time": "2021-02-10T17:17:30.721449",
     "exception": false,
     "start_time": "2021-02-10T17:17:30.396036",
     "status": "completed"
    },
    "tags": []
   },
   "outputs": [
    {
     "data": {
      "image/png": "[encoded data removed]",
      "text/plain": [
       "<Figure size 576x576 with 1 Axes>"
      ]
     },
     "metadata": {
      "needs_background": "light"
     },
     "output_type": "display_data"
    }
   ],
   "source": [
    "plt.figure(figsize=[8,8])\n",
    "sns.countplot(x='Education_Level',data = df, hue='Attrition_Flag')\n",
    "plt.show()"
   ]
  },
  {
   "cell_type": "code",
   "execution_count": 15,
   "metadata": {
    "execution": {
     "iopub.execute_input": "2021-02-10T17:17:30.857166Z",
     "iopub.status.busy": "2021-02-10T17:17:30.856138Z",
     "iopub.status.idle": "2021-02-10T17:17:30.860481Z",
     "shell.execute_reply": "2021-02-10T17:17:30.859849Z"
    },
    "papermill": {
     "duration": 0.075753,
     "end_time": "2021-02-10T17:17:30.860868",
     "exception": false,
     "start_time": "2021-02-10T17:17:30.785115",
     "status": "completed"
    },
    "tags": []
   },
   "outputs": [],
   "source": [
    "def update_education_unknown(df):\n",
    "    edu_level = df[0]\n",
    "    if edu_level == 'Unknown':\n",
    "        return 'Edu_Unknown'\n",
    "    else: \n",
    "        return edu_level\n",
    "\n",
    "def update_marital_unknown(df):\n",
    "    marital = df[0]\n",
    "    if marital == 'Unknown':\n",
    "        return 'Marital_Unknown'\n",
    "    else: \n",
    "        return marital"
   ]
  },
  {
   "cell_type": "code",
   "execution_count": 16,
   "metadata": {
    "execution": {
     "iopub.execute_input": "2021-02-10T17:17:30.989275Z",
     "iopub.status.busy": "2021-02-10T17:17:30.988602Z",
     "iopub.status.idle": "2021-02-10T17:17:31.197267Z",
     "shell.execute_reply": "2021-02-10T17:17:31.196660Z"
    },
    "papermill": {
     "duration": 0.274768,
     "end_time": "2021-02-10T17:17:31.197469",
     "exception": false,
     "start_time": "2021-02-10T17:17:30.922701",
     "status": "completed"
    },
    "tags": []
   },
   "outputs": [],
   "source": [
    "df['Education_Level'] = df[['Education_Level']].apply(update_education_unknown,axis=1)\n",
    "df['Marital_Status'] = df[['Marital_Status']].apply(update_marital_unknown,axis=1)"
   ]
  },
  {
   "cell_type": "code",
   "execution_count": 17,
   "metadata": {
    "execution": {
     "iopub.execute_input": "2021-02-10T17:17:31.323594Z",
     "iopub.status.busy": "2021-02-10T17:17:31.321594Z",
     "iopub.status.idle": "2021-02-10T17:17:31.332761Z",
     "shell.execute_reply": "2021-02-10T17:17:31.332025Z"
    },
    "papermill": {
     "duration": 0.07685,
     "end_time": "2021-02-10T17:17:31.332920",
     "exception": false,
     "start_time": "2021-02-10T17:17:31.256070",
     "status": "completed"
    },
    "tags": []
   },
   "outputs": [],
   "source": [
    "attir_flag = pd.get_dummies(df['Attrition_Flag'],drop_first=True)\n",
    "df.drop(['Attrition_Flag'], axis=1, inplace=True)\n",
    "df = pd.concat([df, attir_flag], axis=1)"
   ]
  },
  {
   "cell_type": "code",
   "execution_count": 18,
   "metadata": {
    "execution": {
     "iopub.execute_input": "2021-02-10T17:17:31.460777Z",
     "iopub.status.busy": "2021-02-10T17:17:31.459471Z",
     "iopub.status.idle": "2021-02-10T17:17:31.476242Z",
     "shell.execute_reply": "2021-02-10T17:17:31.475553Z"
    },
    "papermill": {
     "duration": 0.082711,
     "end_time": "2021-02-10T17:17:31.476403",
     "exception": false,
     "start_time": "2021-02-10T17:17:31.393692",
     "status": "completed"
    },
    "tags": []
   },
   "outputs": [
    {
     "data": {
      "text/plain": [
       "Existing Customer           1.000000\n",
       "Total_Trans_Ct              0.371403\n",
       "Total_Ct_Chng_Q4_Q1         0.290054\n",
       "Total_Revolving_Bal         0.263053\n",
       "Avg_Utilization_Ratio       0.178410\n",
       "Total_Trans_Amt             0.168598\n",
       "Total_Relationship_Count    0.150005\n",
       "Total_Amt_Chng_Q4_Q1        0.131063\n",
       "Credit_Limit                0.023873\n",
       "Avg_Open_To_Buy             0.000285\n",
       "Months_on_book             -0.013687\n",
       "Customer_Age               -0.018203\n",
       "Dependent_count            -0.018991\n",
       "Months_Inactive_12_mon     -0.152449\n",
       "Contacts_Count_12_mon      -0.204491\n",
       "Name: Existing Customer, dtype: float64"
      ]
     },
     "execution_count": 18,
     "metadata": {},
     "output_type": "execute_result"
    }
   ],
   "source": [
    "corr_matrix = df.corr()\n",
    "corr_matrix['Existing Customer'].sort_values(ascending = False)"
   ]
  },
  {
   "cell_type": "code",
   "execution_count": 19,
   "metadata": {
    "execution": {
     "iopub.execute_input": "2021-02-10T17:17:31.602924Z",
     "iopub.status.busy": "2021-02-10T17:17:31.601822Z",
     "iopub.status.idle": "2021-02-10T17:17:33.385002Z",
     "shell.execute_reply": "2021-02-10T17:17:33.385694Z"
    },
    "papermill": {
     "duration": 1.848338,
     "end_time": "2021-02-10T17:17:33.385886",
     "exception": false,
     "start_time": "2021-02-10T17:17:31.537548",
     "status": "completed"
    },
    "tags": []
   },
   "outputs": [
    {
     "data": {
      "image/png": "[encoded data removed]",
      "text/plain": [
       "<Figure size 720x720 with 2 Axes>"
      ]
     },
     "metadata": {
      "needs_background": "light"
     },
     "output_type": "display_data"
    }
   ],
   "source": [
    "g = sns.heatmap(df.corr(),annot=True,fmt = \".2f\", cmap = \"coolwarm\")\n",
    "fig=plt.gcf()\n",
    "fig.set_size_inches(10,10)\n",
    "plt.show()"
   ]
  },
  {
   "cell_type": "code",
   "execution_count": 20,
   "metadata": {
    "execution": {
     "iopub.execute_input": "2021-02-10T17:17:33.517568Z",
     "iopub.status.busy": "2021-02-10T17:17:33.516435Z",
     "iopub.status.idle": "2021-02-10T17:17:33.521632Z",
     "shell.execute_reply": "2021-02-10T17:17:33.522167Z"
    },
    "papermill": {
     "duration": 0.072697,
     "end_time": "2021-02-10T17:17:33.522352",
     "exception": false,
     "start_time": "2021-02-10T17:17:33.449655",
     "status": "completed"
    },
    "tags": []
   },
   "outputs": [],
   "source": [
    "df2 = df.copy()"
   ]
  },
  {
   "cell_type": "code",
   "execution_count": 21,
   "metadata": {
    "execution": {
     "iopub.execute_input": "2021-02-10T17:17:33.657655Z",
     "iopub.status.busy": "2021-02-10T17:17:33.656639Z",
     "iopub.status.idle": "2021-02-10T17:17:33.665033Z",
     "shell.execute_reply": "2021-02-10T17:17:33.665594Z"
    },
    "papermill": {
     "duration": 0.077242,
     "end_time": "2021-02-10T17:17:33.665959",
     "exception": false,
     "start_time": "2021-02-10T17:17:33.588717",
     "status": "completed"
    },
    "tags": []
   },
   "outputs": [],
   "source": [
    "df2.drop(['Avg_Open_To_Buy'], axis=1, inplace=True) # dropping because of multicollinearity "
   ]
  },
  {
   "cell_type": "code",
   "execution_count": 22,
   "metadata": {
    "execution": {
     "iopub.execute_input": "2021-02-10T17:17:33.799331Z",
     "iopub.status.busy": "2021-02-10T17:17:33.798296Z",
     "iopub.status.idle": "2021-02-10T17:17:35.434044Z",
     "shell.execute_reply": "2021-02-10T17:17:35.434582Z"
    },
    "papermill": {
     "duration": 1.703308,
     "end_time": "2021-02-10T17:17:35.434761",
     "exception": false,
     "start_time": "2021-02-10T17:17:33.731453",
     "status": "completed"
    },
    "tags": []
   },
   "outputs": [
    {
     "data": {
      "image/png": "[encoded data removed]",
      "text/plain": [
       "<Figure size 720x720 with 2 Axes>"
      ]
     },
     "metadata": {
      "needs_background": "light"
     },
     "output_type": "display_data"
    }
   ],
   "source": [
    "g = sns.heatmap(df2.corr(),annot=True,fmt = \".2f\", cmap = \"coolwarm\")\n",
    "fig=plt.gcf()\n",
    "fig.set_size_inches(10,10)\n",
    "plt.show()"
   ]
  },
  {
   "cell_type": "code",
   "execution_count": 23,
   "metadata": {
    "execution": {
     "iopub.execute_input": "2021-02-10T17:17:35.582711Z",
     "iopub.status.busy": "2021-02-10T17:17:35.581970Z",
     "iopub.status.idle": "2021-02-10T17:17:35.616245Z",
     "shell.execute_reply": "2021-02-10T17:17:35.615656Z"
    },
    "papermill": {
     "duration": 0.113916,
     "end_time": "2021-02-10T17:17:35.616409",
     "exception": false,
     "start_time": "2021-02-10T17:17:35.502493",
     "status": "completed"
    },
    "tags": []
   },
   "outputs": [],
   "source": [
    "# ENCODING THE CATEGORICAL VARIABLES\n",
    "gender_flag = pd.get_dummies(df2['Gender'],drop_first=True)\n",
    "df2.drop(['Gender'], axis=1, inplace=True)\n",
    "df2 = pd.concat([df2, gender_flag], axis=1)\n",
    "\n",
    "marital_flag = pd.get_dummies(df2['Marital_Status'],drop_first=True)\n",
    "df2.drop(['Marital_Status'], axis=1, inplace=True)\n",
    "df2 = pd.concat([df2, marital_flag], axis=1)\n",
    "\n",
    "edu_flag = pd.get_dummies(df2['Education_Level'],drop_first=True)\n",
    "df2.drop(['Education_Level'], axis=1, inplace=True)\n",
    "df2 = pd.concat([df2, edu_flag], axis=1)\n",
    "\n",
    "card_flag = pd.get_dummies(df2['Card_Category'],drop_first=True)\n",
    "df2.drop(['Card_Category'], axis=1, inplace=True)\n",
    "df2 = pd.concat([df2, card_flag], axis=1)\n",
    "\n",
    "income_flag = pd.get_dummies(df2['Income_Category'],drop_first=True)\n",
    "df2.drop(['Income_Category'], axis=1, inplace=True)\n",
    "df2 = pd.concat([df2, income_flag], axis=1)"
   ]
  },
  {
   "cell_type": "code",
   "execution_count": 24,
   "metadata": {
    "execution": {
     "iopub.execute_input": "2021-02-10T17:17:35.783290Z",
     "iopub.status.busy": "2021-02-10T17:17:35.775332Z",
     "iopub.status.idle": "2021-02-10T17:17:35.789470Z",
     "shell.execute_reply": "2021-02-10T17:17:35.788841Z"
    },
    "papermill": {
     "duration": 0.104965,
     "end_time": "2021-02-10T17:17:35.789617",
     "exception": false,
     "start_time": "2021-02-10T17:17:35.684652",
     "status": "completed"
    },
    "tags": []
   },
   "outputs": [
    {
     "data": {
      "text/html": [
       "<div>\n",
       "<style scoped>\n",
       "    .dataframe tbody tr th:only-of-type {\n",
       "        vertical-align: middle;\n",
       "    }\n",
       "\n",
       "    .dataframe tbody tr th {\n",
       "        vertical-align: top;\n",
       "    }\n",
       "\n",
       "    .dataframe thead th {\n",
       "        text-align: right;\n",
       "    }\n",
       "</style>\n",
       "<table border=\"1\" class=\"dataframe\">\n",
       "  <thead>\n",
       "    <tr style=\"text-align: right;\">\n",
       "      <th></th>\n",
       "      <th>Customer_Age</th>\n",
       "      <th>Dependent_count</th>\n",
       "      <th>Months_on_book</th>\n",
       "      <th>Total_Relationship_Count</th>\n",
       "      <th>Months_Inactive_12_mon</th>\n",
       "      <th>Contacts_Count_12_mon</th>\n",
       "      <th>Credit_Limit</th>\n",
       "      <th>Total_Revolving_Bal</th>\n",
       "      <th>Total_Amt_Chng_Q4_Q1</th>\n",
       "      <th>Total_Trans_Amt</th>\n",
       "      <th>...</th>\n",
       "      <th>Post-Graduate</th>\n",
       "      <th>Uneducated</th>\n",
       "      <th>Gold</th>\n",
       "      <th>Platinum</th>\n",
       "      <th>Silver</th>\n",
       "      <th>$40K - $60K</th>\n",
       "      <th>$60K - $80K</th>\n",
       "      <th>$80K - $120K</th>\n",
       "      <th>Less than $40K</th>\n",
       "      <th>Unknown</th>\n",
       "    </tr>\n",
       "  </thead>\n",
       "  <tbody>\n",
       "    <tr>\n",
       "      <th>0</th>\n",
       "      <td>45</td>\n",
       "      <td>3</td>\n",
       "      <td>39</td>\n",
       "      <td>5</td>\n",
       "      <td>1</td>\n",
       "      <td>3</td>\n",
       "      <td>12691.0</td>\n",
       "      <td>777</td>\n",
       "      <td>1.335</td>\n",
       "      <td>1144</td>\n",
       "      <td>...</td>\n",
       "      <td>0</td>\n",
       "      <td>0</td>\n",
       "      <td>0</td>\n",
       "      <td>0</td>\n",
       "      <td>0</td>\n",
       "      <td>0</td>\n",
       "      <td>1</td>\n",
       "      <td>0</td>\n",
       "      <td>0</td>\n",
       "      <td>0</td>\n",
       "    </tr>\n",
       "    <tr>\n",
       "      <th>1</th>\n",
       "      <td>49</td>\n",
       "      <td>5</td>\n",
       "      <td>44</td>\n",
       "      <td>6</td>\n",
       "      <td>1</td>\n",
       "      <td>2</td>\n",
       "      <td>8256.0</td>\n",
       "      <td>864</td>\n",
       "      <td>1.541</td>\n",
       "      <td>1291</td>\n",
       "      <td>...</td>\n",
       "      <td>0</td>\n",
       "      <td>0</td>\n",
       "      <td>0</td>\n",
       "      <td>0</td>\n",
       "      <td>0</td>\n",
       "      <td>0</td>\n",
       "      <td>0</td>\n",
       "      <td>0</td>\n",
       "      <td>1</td>\n",
       "      <td>0</td>\n",
       "    </tr>\n",
       "    <tr>\n",
       "      <th>2</th>\n",
       "      <td>51</td>\n",
       "      <td>3</td>\n",
       "      <td>36</td>\n",
       "      <td>4</td>\n",
       "      <td>1</td>\n",
       "      <td>0</td>\n",
       "      <td>3418.0</td>\n",
       "      <td>0</td>\n",
       "      <td>2.594</td>\n",
       "      <td>1887</td>\n",
       "      <td>...</td>\n",
       "      <td>0</td>\n",
       "      <td>0</td>\n",
       "      <td>0</td>\n",
       "      <td>0</td>\n",
       "      <td>0</td>\n",
       "      <td>0</td>\n",
       "      <td>0</td>\n",
       "      <td>1</td>\n",
       "      <td>0</td>\n",
       "      <td>0</td>\n",
       "    </tr>\n",
       "    <tr>\n",
       "      <th>3</th>\n",
       "      <td>40</td>\n",
       "      <td>4</td>\n",
       "      <td>34</td>\n",
       "      <td>3</td>\n",
       "      <td>4</td>\n",
       "      <td>1</td>\n",
       "      <td>3313.0</td>\n",
       "      <td>2517</td>\n",
       "      <td>1.405</td>\n",
       "      <td>1171</td>\n",
       "      <td>...</td>\n",
       "      <td>0</td>\n",
       "      <td>0</td>\n",
       "      <td>0</td>\n",
       "      <td>0</td>\n",
       "      <td>0</td>\n",
       "      <td>0</td>\n",
       "      <td>0</td>\n",
       "      <td>0</td>\n",
       "      <td>1</td>\n",
       "      <td>0</td>\n",
       "    </tr>\n",
       "    <tr>\n",
       "      <th>4</th>\n",
       "      <td>40</td>\n",
       "      <td>3</td>\n",
       "      <td>21</td>\n",
       "      <td>5</td>\n",
       "      <td>1</td>\n",
       "      <td>0</td>\n",
       "      <td>4716.0</td>\n",
       "      <td>0</td>\n",
       "      <td>2.175</td>\n",
       "      <td>816</td>\n",
       "      <td>...</td>\n",
       "      <td>0</td>\n",
       "      <td>1</td>\n",
       "      <td>0</td>\n",
       "      <td>0</td>\n",
       "      <td>0</td>\n",
       "      <td>0</td>\n",
       "      <td>1</td>\n",
       "      <td>0</td>\n",
       "      <td>0</td>\n",
       "      <td>0</td>\n",
       "    </tr>\n",
       "  </tbody>\n",
       "</table>\n",
       "<p>5 rows × 32 columns</p>\n",
       "</div>"
      ],
      "text/plain": [
       "   Customer_Age  Dependent_count  Months_on_book  Total_Relationship_Count  \\\n",
       "0            45                3              39                         5   \n",
       "1            49                5              44                         6   \n",
       "2            51                3              36                         4   \n",
       "3            40                4              34                         3   \n",
       "4            40                3              21                         5   \n",
       "\n",
       "   Months_Inactive_12_mon  Contacts_Count_12_mon  Credit_Limit  \\\n",
       "0                       1                      3       12691.0   \n",
       "1                       1                      2        8256.0   \n",
       "2                       1                      0        3418.0   \n",
       "3                       4                      1        3313.0   \n",
       "4                       1                      0        4716.0   \n",
       "\n",
       "   Total_Revolving_Bal  Total_Amt_Chng_Q4_Q1  Total_Trans_Amt  ...  \\\n",
       "0                  777                 1.335             1144  ...   \n",
       "1                  864                 1.541             1291  ...   \n",
       "2                    0                 2.594             1887  ...   \n",
       "3                 2517                 1.405             1171  ...   \n",
       "4                    0                 2.175              816  ...   \n",
       "\n",
       "   Post-Graduate  Uneducated  Gold  Platinum  Silver  $40K - $60K  \\\n",
       "0              0           0     0         0       0            0   \n",
       "1              0           0     0         0       0            0   \n",
       "2              0           0     0         0       0            0   \n",
       "3              0           0     0         0       0            0   \n",
       "4              0           1     0         0       0            0   \n",
       "\n",
       "   $60K - $80K  $80K - $120K  Less than $40K  Unknown  \n",
       "0            1             0               0        0  \n",
       "1            0             0               1        0  \n",
       "2            0             1               0        0  \n",
       "3            0             0               1        0  \n",
       "4            1             0               0        0  \n",
       "\n",
       "[5 rows x 32 columns]"
      ]
     },
     "execution_count": 24,
     "metadata": {},
     "output_type": "execute_result"
    }
   ],
   "source": [
    "df2.head()"
   ]
  },
  {
   "cell_type": "code",
   "execution_count": 25,
   "metadata": {
    "execution": {
     "iopub.execute_input": "2021-02-10T17:17:35.935849Z",
     "iopub.status.busy": "2021-02-10T17:17:35.935189Z",
     "iopub.status.idle": "2021-02-10T17:17:35.940185Z",
     "shell.execute_reply": "2021-02-10T17:17:35.939622Z"
    },
    "papermill": {
     "duration": 0.077172,
     "end_time": "2021-02-10T17:17:35.940342",
     "exception": false,
     "start_time": "2021-02-10T17:17:35.863170",
     "status": "completed"
    },
    "tags": []
   },
   "outputs": [
    {
     "data": {
      "text/plain": [
       "Index(['Customer_Age', 'Dependent_count', 'Months_on_book',\n",
       "       'Total_Relationship_Count', 'Months_Inactive_12_mon',\n",
       "       'Contacts_Count_12_mon', 'Credit_Limit', 'Total_Revolving_Bal',\n",
       "       'Total_Amt_Chng_Q4_Q1', 'Total_Trans_Amt', 'Total_Trans_Ct',\n",
       "       'Total_Ct_Chng_Q4_Q1', 'Avg_Utilization_Ratio', 'Existing Customer',\n",
       "       'M', 'Marital_Unknown', 'Married', 'Single', 'Doctorate', 'Edu_Unknown',\n",
       "       'Graduate', 'High School', 'Post-Graduate', 'Uneducated', 'Gold',\n",
       "       'Platinum', 'Silver', '$40K - $60K', '$60K - $80K', '$80K - $120K',\n",
       "       'Less than $40K', 'Unknown'],\n",
       "      dtype='object')"
      ]
     },
     "execution_count": 25,
     "metadata": {},
     "output_type": "execute_result"
    }
   ],
   "source": [
    "df2.columns"
   ]
  },
  {
   "cell_type": "markdown",
   "metadata": {
    "papermill": {
     "duration": 0.068588,
     "end_time": "2021-02-10T17:17:36.079341",
     "exception": false,
     "start_time": "2021-02-10T17:17:36.010753",
     "status": "completed"
    },
    "tags": []
   },
   "source": [
    "# TRAIN TEST SPLIT"
   ]
  },
  {
   "cell_type": "code",
   "execution_count": 26,
   "metadata": {
    "execution": {
     "iopub.execute_input": "2021-02-10T17:17:36.225778Z",
     "iopub.status.busy": "2021-02-10T17:17:36.225074Z",
     "iopub.status.idle": "2021-02-10T17:17:36.303056Z",
     "shell.execute_reply": "2021-02-10T17:17:36.302454Z"
    },
    "papermill": {
     "duration": 0.153503,
     "end_time": "2021-02-10T17:17:36.303222",
     "exception": false,
     "start_time": "2021-02-10T17:17:36.149719",
     "status": "completed"
    },
    "tags": []
   },
   "outputs": [],
   "source": [
    "from sklearn.model_selection import train_test_split\n",
    "X = df2.loc[:, df2.columns != 'Existing Customer'] \n",
    "y = df2.loc[:,df2.columns == 'Existing Customer']\n",
    "X_train, X_test, y_train, y_test = train_test_split(X, y, test_size=0.2,random_state = 10, stratify=y)"
   ]
  },
  {
   "cell_type": "code",
   "execution_count": 27,
   "metadata": {
    "execution": {
     "iopub.execute_input": "2021-02-10T17:17:36.449394Z",
     "iopub.status.busy": "2021-02-10T17:17:36.448684Z",
     "iopub.status.idle": "2021-02-10T17:17:36.453824Z",
     "shell.execute_reply": "2021-02-10T17:17:36.453168Z"
    },
    "papermill": {
     "duration": 0.079124,
     "end_time": "2021-02-10T17:17:36.453971",
     "exception": false,
     "start_time": "2021-02-10T17:17:36.374847",
     "status": "completed"
    },
    "tags": []
   },
   "outputs": [
    {
     "name": "stdout",
     "output_type": "stream",
     "text": [
      "Number transactions X_train dataset:  (8101, 31)\n",
      "Number transactions y_train dataset:  (8101, 1)\n",
      "Number transactions X_test dataset:  (2026, 31)\n",
      "Number transactions y_test dataset:  (2026, 1)\n"
     ]
    }
   ],
   "source": [
    "print(\"Number transactions X_train dataset: \", X_train.shape) \n",
    "print(\"Number transactions y_train dataset: \", y_train.shape) \n",
    "print(\"Number transactions X_test dataset: \", X_test.shape) \n",
    "print(\"Number transactions y_test dataset: \", y_test.shape)"
   ]
  },
  {
   "cell_type": "code",
   "execution_count": 28,
   "metadata": {
    "execution": {
     "iopub.execute_input": "2021-02-10T17:17:36.602061Z",
     "iopub.status.busy": "2021-02-10T17:17:36.599981Z",
     "iopub.status.idle": "2021-02-10T17:17:36.730908Z",
     "shell.execute_reply": "2021-02-10T17:17:36.730251Z"
    },
    "papermill": {
     "duration": 0.205711,
     "end_time": "2021-02-10T17:17:36.731051",
     "exception": false,
     "start_time": "2021-02-10T17:17:36.525340",
     "status": "completed"
    },
    "tags": []
   },
   "outputs": [
    {
     "data": {
      "image/png": "[encoded data removed]",
      "text/plain": [
       "<Figure size 432x288 with 1 Axes>"
      ]
     },
     "metadata": {
      "needs_background": "light"
     },
     "output_type": "display_data"
    }
   ],
   "source": [
    "sns.countplot(x = 'Existing Customer',data = y_train)\n",
    "plt.show()"
   ]
  },
  {
   "cell_type": "markdown",
   "metadata": {
    "papermill": {
     "duration": 0.071718,
     "end_time": "2021-02-10T17:17:36.871716",
     "exception": false,
     "start_time": "2021-02-10T17:17:36.799998",
     "status": "completed"
    },
    "tags": []
   },
   "source": [
    "# HANDLING IMBALANCED CLASS"
   ]
  },
  {
   "cell_type": "code",
   "execution_count": 29,
   "metadata": {
    "execution": {
     "iopub.execute_input": "2021-02-10T17:17:37.018925Z",
     "iopub.status.busy": "2021-02-10T17:17:37.018233Z",
     "iopub.status.idle": "2021-02-10T17:17:37.206635Z",
     "shell.execute_reply": "2021-02-10T17:17:37.207263Z"
    },
    "papermill": {
     "duration": 0.267022,
     "end_time": "2021-02-10T17:17:37.207446",
     "exception": false,
     "start_time": "2021-02-10T17:17:36.940424",
     "status": "completed"
    },
    "tags": []
   },
   "outputs": [],
   "source": [
    "smo = sm(random_state = 2) \n",
    "X_train_res, y_train_res = smo.fit_sample(X_train, y_train.values.ravel()) "
   ]
  },
  {
   "cell_type": "code",
   "execution_count": 30,
   "metadata": {
    "execution": {
     "iopub.execute_input": "2021-02-10T17:17:37.383803Z",
     "iopub.status.busy": "2021-02-10T17:17:37.379094Z",
     "iopub.status.idle": "2021-02-10T17:17:37.562641Z",
     "shell.execute_reply": "2021-02-10T17:17:37.562065Z"
    },
    "papermill": {
     "duration": 0.282834,
     "end_time": "2021-02-10T17:17:37.562793",
     "exception": false,
     "start_time": "2021-02-10T17:17:37.279959",
     "status": "completed"
    },
    "tags": []
   },
   "outputs": [
    {
     "data": {
      "image/png": "[encoded data removed]",
      "text/plain": [
       "<Figure size 432x288 with 1 Axes>"
      ]
     },
     "metadata": {
      "needs_background": "light"
     },
     "output_type": "display_data"
    }
   ],
   "source": [
    "l = list(y_train_res)\n",
    "sns.countplot(x = l)\n",
    "plt.show()"
   ]
  },
  {
   "cell_type": "markdown",
   "metadata": {
    "papermill": {
     "duration": 0.072695,
     "end_time": "2021-02-10T17:17:37.710005",
     "exception": false,
     "start_time": "2021-02-10T17:17:37.637310",
     "status": "completed"
    },
    "tags": []
   },
   "source": [
    "# SCALING DATASET"
   ]
  },
  {
   "cell_type": "code",
   "execution_count": 31,
   "metadata": {
    "execution": {
     "iopub.execute_input": "2021-02-10T17:17:37.864004Z",
     "iopub.status.busy": "2021-02-10T17:17:37.863321Z",
     "iopub.status.idle": "2021-02-10T17:17:37.878013Z",
     "shell.execute_reply": "2021-02-10T17:17:37.877339Z"
    },
    "papermill": {
     "duration": 0.096661,
     "end_time": "2021-02-10T17:17:37.878180",
     "exception": false,
     "start_time": "2021-02-10T17:17:37.781519",
     "status": "completed"
    },
    "tags": []
   },
   "outputs": [],
   "source": [
    "sc = StandardScaler()\n",
    "X_train_res= sc.fit_transform(X_train_res)"
   ]
  },
  {
   "cell_type": "code",
   "execution_count": 32,
   "metadata": {
    "execution": {
     "iopub.execute_input": "2021-02-10T17:17:38.032331Z",
     "iopub.status.busy": "2021-02-10T17:17:38.031390Z",
     "iopub.status.idle": "2021-02-10T17:17:38.035777Z",
     "shell.execute_reply": "2021-02-10T17:17:38.036317Z"
    },
    "papermill": {
     "duration": 0.084007,
     "end_time": "2021-02-10T17:17:38.036524",
     "exception": false,
     "start_time": "2021-02-10T17:17:37.952517",
     "status": "completed"
    },
    "tags": []
   },
   "outputs": [],
   "source": [
    "X_test = sc.transform(X_test)"
   ]
  },
  {
   "cell_type": "code",
   "execution_count": 33,
   "metadata": {
    "execution": {
     "iopub.execute_input": "2021-02-10T17:17:38.189624Z",
     "iopub.status.busy": "2021-02-10T17:17:38.188757Z",
     "iopub.status.idle": "2021-02-10T17:17:38.191773Z",
     "shell.execute_reply": "2021-02-10T17:17:38.191250Z"
    },
    "papermill": {
     "duration": 0.083357,
     "end_time": "2021-02-10T17:17:38.191923",
     "exception": false,
     "start_time": "2021-02-10T17:17:38.108566",
     "status": "completed"
    },
    "tags": []
   },
   "outputs": [],
   "source": [
    "def display_scores(scores):\n",
    "    print('Scores',scores)\n",
    "    print('Mean',scores.mean())\n",
    "    print('Standard Deviation',scores.std())"
   ]
  },
  {
   "cell_type": "code",
   "execution_count": 34,
   "metadata": {
    "execution": {
     "iopub.execute_input": "2021-02-10T17:17:38.346758Z",
     "iopub.status.busy": "2021-02-10T17:17:38.345881Z",
     "iopub.status.idle": "2021-02-10T17:17:38.349019Z",
     "shell.execute_reply": "2021-02-10T17:17:38.348375Z"
    },
    "papermill": {
     "duration": 0.084094,
     "end_time": "2021-02-10T17:17:38.349180",
     "exception": false,
     "start_time": "2021-02-10T17:17:38.265086",
     "status": "completed"
    },
    "tags": []
   },
   "outputs": [],
   "source": [
    "def plot_precision_recall_vs_threshold(precisions, recalls, thresholds):\n",
    "    plt.plot(thresholds, precisions[:-1], \"b--\", label=\"Precision\")\n",
    "    plt.plot(thresholds, recalls[:-1], \"g-\", label=\"Recall\")\n",
    "    plt.xlabel(\"Threshold\")\n",
    "    plt.legend(loc=\"upper left\")\n",
    "    plt.ylim([0, 1])\n",
    "\n",
    "def plot_roc_curve(fpr, tpr, label=None):\n",
    "    plt.plot(fpr, tpr, linewidth=2, label=label)\n",
    "    plt.plot([0, 1], [0, 1], 'k--')\n",
    "    plt.axis([0, 1, 0, 1])\n",
    "    plt.xlabel('False Positive Rate')\n",
    "    plt.ylabel('True Positive Rate')"
   ]
  },
  {
   "cell_type": "markdown",
   "metadata": {
    "papermill": {
     "duration": 0.070805,
     "end_time": "2021-02-10T17:17:38.493166",
     "exception": false,
     "start_time": "2021-02-10T17:17:38.422361",
     "status": "completed"
    },
    "tags": []
   },
   "source": [
    "# MODELING"
   ]
  },
  {
   "cell_type": "markdown",
   "metadata": {
    "papermill": {
     "duration": 0.070849,
     "end_time": "2021-02-10T17:17:38.637597",
     "exception": false,
     "start_time": "2021-02-10T17:17:38.566748",
     "status": "completed"
    },
    "tags": []
   },
   "source": [
    "### K Neighbours Classifier"
   ]
  },
  {
   "cell_type": "code",
   "execution_count": 35,
   "metadata": {
    "execution": {
     "iopub.execute_input": "2021-02-10T17:17:38.786426Z",
     "iopub.status.busy": "2021-02-10T17:17:38.785472Z",
     "iopub.status.idle": "2021-02-10T17:17:38.788785Z",
     "shell.execute_reply": "2021-02-10T17:17:38.788083Z"
    },
    "papermill": {
     "duration": 0.078365,
     "end_time": "2021-02-10T17:17:38.788934",
     "exception": false,
     "start_time": "2021-02-10T17:17:38.710569",
     "status": "completed"
    },
    "tags": []
   },
   "outputs": [],
   "source": [
    "# k = KNeighborsClassifier()\n",
    "# k_param_grid = {\"n_neighbors\":[5,10,15,20],\n",
    "#                \"metric\" : ['minkowski','euclidean','manhattan',\"chebyshev\"]\n",
    "#                }\n",
    "# k_NN = GridSearchCV(k,param_grid = k_param_grid, cv=5, scoring=\"accuracy\", n_jobs= -1, verbose = 2)\n",
    "# k_NN.fit(X_train_res,y_train_res)\n",
    "# k_NN.best_estimator_"
   ]
  },
  {
   "cell_type": "code",
   "execution_count": 36,
   "metadata": {
    "execution": {
     "iopub.execute_input": "2021-02-10T17:17:38.936297Z",
     "iopub.status.busy": "2021-02-10T17:17:38.935303Z",
     "iopub.status.idle": "2021-02-10T17:17:38.938341Z",
     "shell.execute_reply": "2021-02-10T17:17:38.938901Z"
    },
    "papermill": {
     "duration": 0.078248,
     "end_time": "2021-02-10T17:17:38.939162",
     "exception": false,
     "start_time": "2021-02-10T17:17:38.860914",
     "status": "completed"
    },
    "tags": []
   },
   "outputs": [],
   "source": [
    "# k_NN.best_score_"
   ]
  },
  {
   "cell_type": "code",
   "execution_count": 37,
   "metadata": {
    "execution": {
     "iopub.execute_input": "2021-02-10T17:17:39.093180Z",
     "iopub.status.busy": "2021-02-10T17:17:39.091402Z",
     "iopub.status.idle": "2021-02-10T17:17:51.407374Z",
     "shell.execute_reply": "2021-02-10T17:17:51.406673Z"
    },
    "papermill": {
     "duration": 12.394676,
     "end_time": "2021-02-10T17:17:51.407566",
     "exception": false,
     "start_time": "2021-02-10T17:17:39.012890",
     "status": "completed"
    },
    "tags": []
   },
   "outputs": [
    {
     "name": "stdout",
     "output_type": "stream",
     "text": [
      "Scores [0.82426471 0.95404412 0.96727941 0.95917617 0.95292387]\n",
      "Mean 0.9315376544144691\n",
      "Standard Deviation 0.05387533236442255\n"
     ]
    }
   ],
   "source": [
    "k = KNeighborsClassifier(metric='manhattan')\n",
    "k_score = cross_val_score(k, X_train_res, y_train_res, cv=5, scoring=\"accuracy\")\n",
    "display_scores(k_score)"
   ]
  },
  {
   "cell_type": "code",
   "execution_count": 38,
   "metadata": {
    "execution": {
     "iopub.execute_input": "2021-02-10T17:17:51.560164Z",
     "iopub.status.busy": "2021-02-10T17:17:51.558567Z",
     "iopub.status.idle": "2021-02-10T17:18:03.786885Z",
     "shell.execute_reply": "2021-02-10T17:18:03.787588Z"
    },
    "papermill": {
     "duration": 12.306639,
     "end_time": "2021-02-10T17:18:03.787779",
     "exception": false,
     "start_time": "2021-02-10T17:17:51.481140",
     "status": "completed"
    },
    "tags": []
   },
   "outputs": [],
   "source": [
    "y_train_pred = cross_val_predict(k, X_train_res, y_train_res, cv=5)"
   ]
  },
  {
   "cell_type": "code",
   "execution_count": 39,
   "metadata": {
    "execution": {
     "iopub.execute_input": "2021-02-10T17:18:03.939996Z",
     "iopub.status.busy": "2021-02-10T17:18:03.938834Z",
     "iopub.status.idle": "2021-02-10T17:18:03.963269Z",
     "shell.execute_reply": "2021-02-10T17:18:03.962276Z"
    },
    "papermill": {
     "duration": 0.102802,
     "end_time": "2021-02-10T17:18:03.963432",
     "exception": false,
     "start_time": "2021-02-10T17:18:03.860630",
     "status": "completed"
    },
    "tags": []
   },
   "outputs": [
    {
     "name": "stdout",
     "output_type": "stream",
     "text": [
      "0.937910447761194\n",
      "0.9242535667009855\n",
      "0.9310319282909846\n",
      "0.9315340491248714\n"
     ]
    }
   ],
   "source": [
    "print(precision_score(y_train_res, y_train_pred))\n",
    "print(recall_score(y_train_res, y_train_pred))\n",
    "print(f1_score(y_train_res, y_train_pred))\n",
    "print(roc_auc_score(y_train_res, y_train_pred))"
   ]
  },
  {
   "cell_type": "code",
   "execution_count": 40,
   "metadata": {
    "execution": {
     "iopub.execute_input": "2021-02-10T17:18:04.122749Z",
     "iopub.status.busy": "2021-02-10T17:18:04.121543Z",
     "iopub.status.idle": "2021-02-10T17:18:06.386057Z",
     "shell.execute_reply": "2021-02-10T17:18:06.385403Z"
    },
    "papermill": {
     "duration": 2.346722,
     "end_time": "2021-02-10T17:18:06.386222",
     "exception": false,
     "start_time": "2021-02-10T17:18:04.039500",
     "status": "completed"
    },
    "tags": []
   },
   "outputs": [
    {
     "name": "stdout",
     "output_type": "stream",
     "text": [
      "0.8657453109575518\n"
     ]
    }
   ],
   "source": [
    "knn = k.fit(X_train_res,y_train_res)\n",
    "knn_pred = knn.predict(X_test)  #PREDICTION\n",
    "print(accuracy_score(y_test, knn_pred))"
   ]
  },
  {
   "cell_type": "code",
   "execution_count": 41,
   "metadata": {
    "execution": {
     "iopub.execute_input": "2021-02-10T17:18:06.537944Z",
     "iopub.status.busy": "2021-02-10T17:18:06.536965Z",
     "iopub.status.idle": "2021-02-10T17:18:06.741223Z",
     "shell.execute_reply": "2021-02-10T17:18:06.740520Z"
    },
    "papermill": {
     "duration": 0.281971,
     "end_time": "2021-02-10T17:18:06.741390",
     "exception": false,
     "start_time": "2021-02-10T17:18:06.459419",
     "status": "completed"
    },
    "tags": []
   },
   "outputs": [
    {
     "data": {
      "image/png": "[encoded data removed]",
      "text/plain": [
       "<Figure size 360x360 with 2 Axes>"
      ]
     },
     "metadata": {
      "needs_background": "light"
     },
     "output_type": "display_data"
    }
   ],
   "source": [
    "cfm_vpc = confusion_matrix(y_test,knn_pred)\n",
    "sns.heatmap(cfm_vpc, annot=True,fmt = \".2f\", cmap = \"coolwarm\")\n",
    "fig=plt.gcf()\n",
    "fig.set_size_inches(5,5)\n",
    "plt.show()"
   ]
  },
  {
   "cell_type": "code",
   "execution_count": 42,
   "metadata": {
    "execution": {
     "iopub.execute_input": "2021-02-10T17:18:06.900974Z",
     "iopub.status.busy": "2021-02-10T17:18:06.899870Z",
     "iopub.status.idle": "2021-02-10T17:18:07.059267Z",
     "shell.execute_reply": "2021-02-10T17:18:07.059854Z"
    },
    "papermill": {
     "duration": 0.241975,
     "end_time": "2021-02-10T17:18:07.060037",
     "exception": false,
     "start_time": "2021-02-10T17:18:06.818062",
     "status": "completed"
    },
    "tags": []
   },
   "outputs": [
    {
     "name": "stdout",
     "output_type": "stream",
     "text": [
      "0.9185705916813123\n",
      "0.9218106995884774\n",
      "0.92018779342723\n",
      "0.7470591959480849\n"
     ]
    },
    {
     "data": {
      "image/png": "[encoded data removed]",
      "text/plain": [
       "<Figure size 432x288 with 1 Axes>"
      ]
     },
     "metadata": {
      "needs_background": "light"
     },
     "output_type": "display_data"
    }
   ],
   "source": [
    "print(precision_score(y_test,knn_pred))\n",
    "print(recall_score(y_test,knn_pred))\n",
    "print(f1_score(y_test,knn_pred))\n",
    "print(roc_auc_score(y_test,knn_pred))\n",
    "fpr, tpr, thresholds = roc_curve(y_test,knn_pred)\n",
    "plot_roc_curve(fpr, tpr)\n",
    "plt.show()"
   ]
  },
  {
   "cell_type": "markdown",
   "metadata": {
    "papermill": {
     "duration": 0.076986,
     "end_time": "2021-02-10T17:18:07.212620",
     "exception": false,
     "start_time": "2021-02-10T17:18:07.135634",
     "status": "completed"
    },
    "tags": []
   },
   "source": [
    "### SVC"
   ]
  },
  {
   "cell_type": "code",
   "execution_count": 43,
   "metadata": {
    "execution": {
     "iopub.execute_input": "2021-02-10T17:18:07.370729Z",
     "iopub.status.busy": "2021-02-10T17:18:07.370026Z",
     "iopub.status.idle": "2021-02-10T17:18:07.373551Z",
     "shell.execute_reply": "2021-02-10T17:18:07.372955Z"
    },
    "papermill": {
     "duration": 0.086015,
     "end_time": "2021-02-10T17:18:07.373698",
     "exception": false,
     "start_time": "2021-02-10T17:18:07.287683",
     "status": "completed"
    },
    "tags": []
   },
   "outputs": [],
   "source": [
    "# svc_c = SVC(random_state = 2)\n",
    "# svc_param_grid = {'kernel': ['sigmoid','rbf'], \n",
    "#                   'gamma': [ 0.001, 0.01, 0.1, 1],\n",
    "#                   'C': [1, 10, 20],\n",
    "#                  'probability': [True],\n",
    "#                   'tol': [0.001, 0.01, 0.1, 1],\n",
    "#                  'decision_function_shape':['ovr'],\n",
    "#                  }\n",
    "# gsSVMC = GridSearchCV(svc_c,param_grid = svc_param_grid, cv=5, scoring=\"accuracy\", \n",
    "#                       n_jobs= -1, verbose = 1)\n",
    "# gsSVMC.fit(X_train_res,y_train_res)\n",
    "# gsSVMC.best_estimator_"
   ]
  },
  {
   "cell_type": "code",
   "execution_count": 44,
   "metadata": {
    "execution": {
     "iopub.execute_input": "2021-02-10T17:18:07.527432Z",
     "iopub.status.busy": "2021-02-10T17:18:07.526671Z",
     "iopub.status.idle": "2021-02-10T17:18:07.529853Z",
     "shell.execute_reply": "2021-02-10T17:18:07.529302Z"
    },
    "papermill": {
     "duration": 0.080907,
     "end_time": "2021-02-10T17:18:07.529996",
     "exception": false,
     "start_time": "2021-02-10T17:18:07.449089",
     "status": "completed"
    },
    "tags": []
   },
   "outputs": [],
   "source": [
    "# gsSVMC.best_score_"
   ]
  },
  {
   "cell_type": "code",
   "execution_count": 45,
   "metadata": {
    "execution": {
     "iopub.execute_input": "2021-02-10T17:18:07.686180Z",
     "iopub.status.busy": "2021-02-10T17:18:07.685482Z",
     "iopub.status.idle": "2021-02-10T17:19:08.181806Z",
     "shell.execute_reply": "2021-02-10T17:19:08.182406Z"
    },
    "papermill": {
     "duration": 60.578104,
     "end_time": "2021-02-10T17:19:08.182633",
     "exception": false,
     "start_time": "2021-02-10T17:18:07.604529",
     "status": "completed"
    },
    "tags": []
   },
   "outputs": [
    {
     "name": "stdout",
     "output_type": "stream",
     "text": [
      "Scores [0.68419118 0.97169118 0.96654412 0.9709452  0.96984185]\n",
      "Mean 0.9126427049304457\n",
      "Standard Deviation 0.11423931786703731\n"
     ]
    }
   ],
   "source": [
    "svc_c = SVC(C=20, gamma=0.01, probability=True, random_state=2, tol=0.1)\n",
    "c_score = cross_val_score(svc_c, X_train_res, y_train_res, cv=5, scoring=\"accuracy\")\n",
    "display_scores(c_score)"
   ]
  },
  {
   "cell_type": "code",
   "execution_count": 46,
   "metadata": {
    "execution": {
     "iopub.execute_input": "2021-02-10T17:19:08.348524Z",
     "iopub.status.busy": "2021-02-10T17:19:08.347792Z",
     "iopub.status.idle": "2021-02-10T17:20:11.069982Z",
     "shell.execute_reply": "2021-02-10T17:20:11.069227Z"
    },
    "papermill": {
     "duration": 62.806473,
     "end_time": "2021-02-10T17:20:11.070211",
     "exception": false,
     "start_time": "2021-02-10T17:19:08.263738",
     "status": "completed"
    },
    "tags": []
   },
   "outputs": [],
   "source": [
    "y_train_pred = cross_val_predict(svc_c, X_train_res, y_train_res, cv=5)"
   ]
  },
  {
   "cell_type": "code",
   "execution_count": 47,
   "metadata": {
    "execution": {
     "iopub.execute_input": "2021-02-10T17:20:11.232731Z",
     "iopub.status.busy": "2021-02-10T17:20:11.232035Z",
     "iopub.status.idle": "2021-02-10T17:20:11.254746Z",
     "shell.execute_reply": "2021-02-10T17:20:11.255543Z"
    },
    "papermill": {
     "duration": 0.107316,
     "end_time": "2021-02-10T17:20:11.255785",
     "exception": false,
     "start_time": "2021-02-10T17:20:11.148469",
     "status": "completed"
    },
    "tags": []
   },
   "outputs": [
    {
     "name": "stdout",
     "output_type": "stream",
     "text": [
      "0.8819605173587475\n",
      "0.9527871745844977\n",
      "0.9160067873303168\n",
      "0.9126342109133696\n"
     ]
    }
   ],
   "source": [
    "print(precision_score(y_train_res, y_train_pred))\n",
    "print(recall_score(y_train_res, y_train_pred))\n",
    "print(f1_score(y_train_res, y_train_pred))\n",
    "print(roc_auc_score(y_train_res, y_train_pred))"
   ]
  },
  {
   "cell_type": "code",
   "execution_count": 48,
   "metadata": {
    "execution": {
     "iopub.execute_input": "2021-02-10T17:20:11.449063Z",
     "iopub.status.busy": "2021-02-10T17:20:11.447844Z",
     "iopub.status.idle": "2021-02-10T17:20:31.935216Z",
     "shell.execute_reply": "2021-02-10T17:20:31.935765Z"
    },
    "papermill": {
     "duration": 20.595138,
     "end_time": "2021-02-10T17:20:31.935978",
     "exception": false,
     "start_time": "2021-02-10T17:20:11.340840",
     "status": "completed"
    },
    "tags": []
   },
   "outputs": [
    {
     "name": "stdout",
     "output_type": "stream",
     "text": [
      "0.9190523198420533\n"
     ]
    }
   ],
   "source": [
    "svc = svc_c.fit(X_train_res,y_train_res)\n",
    "svc_pred = svc.predict(X_test)\n",
    "print(accuracy_score(y_test, svc_pred))"
   ]
  },
  {
   "cell_type": "code",
   "execution_count": 49,
   "metadata": {
    "execution": {
     "iopub.execute_input": "2021-02-10T17:20:32.096286Z",
     "iopub.status.busy": "2021-02-10T17:20:32.095260Z",
     "iopub.status.idle": "2021-02-10T17:20:32.307448Z",
     "shell.execute_reply": "2021-02-10T17:20:32.308004Z"
    },
    "papermill": {
     "duration": 0.294725,
     "end_time": "2021-02-10T17:20:32.308206",
     "exception": false,
     "start_time": "2021-02-10T17:20:32.013481",
     "status": "completed"
    },
    "tags": []
   },
   "outputs": [
    {
     "data": {
      "image/png": "[encoded data removed]",
      "text/plain": [
       "<Figure size 360x360 with 2 Axes>"
      ]
     },
     "metadata": {
      "needs_background": "light"
     },
     "output_type": "display_data"
    }
   ],
   "source": [
    "cfm_vpc = confusion_matrix(y_test,svc_pred)\n",
    "sns.heatmap(cfm_vpc, annot=True,fmt = \".2f\", cmap = \"coolwarm\")\n",
    "fig=plt.gcf()\n",
    "fig.set_size_inches(5,5)\n",
    "plt.show()"
   ]
  },
  {
   "cell_type": "code",
   "execution_count": 50,
   "metadata": {
    "execution": {
     "iopub.execute_input": "2021-02-10T17:20:32.485455Z",
     "iopub.status.busy": "2021-02-10T17:20:32.484749Z",
     "iopub.status.idle": "2021-02-10T17:20:32.639373Z",
     "shell.execute_reply": "2021-02-10T17:20:32.639918Z"
    },
    "papermill": {
     "duration": 0.241838,
     "end_time": "2021-02-10T17:20:32.640141",
     "exception": false,
     "start_time": "2021-02-10T17:20:32.398303",
     "status": "completed"
    },
    "tags": []
   },
   "outputs": [
    {
     "name": "stdout",
     "output_type": "stream",
     "text": [
      "0.9533923303834808\n",
      "0.9500293944738389\n",
      "0.9517078916372202\n",
      "0.853476235698458\n"
     ]
    },
    {
     "data": {
      "image/png": "[encoded data removed]",
      "text/plain": [
       "<Figure size 432x288 with 1 Axes>"
      ]
     },
     "metadata": {
      "needs_background": "light"
     },
     "output_type": "display_data"
    }
   ],
   "source": [
    "print(precision_score(y_test, svc_pred))\n",
    "print(recall_score(y_test, svc_pred))\n",
    "print(f1_score(y_test, svc_pred))\n",
    "print(roc_auc_score(y_test, svc_pred))\n",
    "fpr, tpr, thresholds = roc_curve(y_test, svc_pred)\n",
    "plot_roc_curve(fpr, tpr)\n",
    "plt.show()"
   ]
  },
  {
   "cell_type": "markdown",
   "metadata": {
    "papermill": {
     "duration": 0.085816,
     "end_time": "2021-02-10T17:20:32.813241",
     "exception": false,
     "start_time": "2021-02-10T17:20:32.727425",
     "status": "completed"
    },
    "tags": []
   },
   "source": [
    "### Decision Tree Classifier"
   ]
  },
  {
   "cell_type": "code",
   "execution_count": 51,
   "metadata": {
    "execution": {
     "iopub.execute_input": "2021-02-10T17:20:32.987589Z",
     "iopub.status.busy": "2021-02-10T17:20:32.986431Z",
     "iopub.status.idle": "2021-02-10T17:20:32.989696Z",
     "shell.execute_reply": "2021-02-10T17:20:32.989087Z"
    },
    "papermill": {
     "duration": 0.093079,
     "end_time": "2021-02-10T17:20:32.989853",
     "exception": false,
     "start_time": "2021-02-10T17:20:32.896774",
     "status": "completed"
    },
    "tags": []
   },
   "outputs": [],
   "source": [
    "# DTC = DecisionTreeClassifier()\n",
    "# DTC_param_grid = {'criterion' : ['entropy'],\n",
    "#                   'max_depth':[2,3,4,5],\n",
    "#                   \"min_samples_split\": [1,2,3,4,5,6,7,8,9,10],\n",
    "#                   \"min_samples_leaf\": [1,2,3,4,5,6,7,8,9,10]\n",
    "#                  }\n",
    "# gsDTC = GridSearchCV(DTC,param_grid = DTC_param_grid, cv=5, scoring=\"accuracy\", n_jobs= -1, verbose = 2)\n",
    "# gsDTC.fit(X_train_res,y_train_res)\n",
    "# gsDTC.best_estimator_"
   ]
  },
  {
   "cell_type": "code",
   "execution_count": 52,
   "metadata": {
    "execution": {
     "iopub.execute_input": "2021-02-10T17:20:33.156877Z",
     "iopub.status.busy": "2021-02-10T17:20:33.155882Z",
     "iopub.status.idle": "2021-02-10T17:20:33.159007Z",
     "shell.execute_reply": "2021-02-10T17:20:33.158447Z"
    },
    "papermill": {
     "duration": 0.089241,
     "end_time": "2021-02-10T17:20:33.159200",
     "exception": false,
     "start_time": "2021-02-10T17:20:33.069959",
     "status": "completed"
    },
    "tags": []
   },
   "outputs": [],
   "source": [
    "# gsDTC.best_score_"
   ]
  },
  {
   "cell_type": "code",
   "execution_count": 53,
   "metadata": {
    "execution": {
     "iopub.execute_input": "2021-02-10T17:20:33.332380Z",
     "iopub.status.busy": "2021-02-10T17:20:33.331497Z",
     "iopub.status.idle": "2021-02-10T17:20:33.739051Z",
     "shell.execute_reply": "2021-02-10T17:20:33.737838Z"
    },
    "papermill": {
     "duration": 0.49701,
     "end_time": "2021-02-10T17:20:33.739286",
     "exception": false,
     "start_time": "2021-02-10T17:20:33.242276",
     "status": "completed"
    },
    "tags": []
   },
   "outputs": [
    {
     "name": "stdout",
     "output_type": "stream",
     "text": [
      "Scores [0.90441176 0.91911765 0.91985294 0.91320338 0.91724899]\n",
      "Mean 0.9147669450273673\n",
      "Standard Deviation 0.005667997690943966\n"
     ]
    }
   ],
   "source": [
    "DTC = DecisionTreeClassifier(criterion='entropy', max_depth=5, min_samples_leaf=9,\n",
    "                       min_samples_split=8)\n",
    "c_score = cross_val_score(DTC, X_train_res, y_train_res, cv=5, scoring=\"accuracy\")\n",
    "display_scores(c_score)"
   ]
  },
  {
   "cell_type": "code",
   "execution_count": 54,
   "metadata": {
    "execution": {
     "iopub.execute_input": "2021-02-10T17:20:33.907270Z",
     "iopub.status.busy": "2021-02-10T17:20:33.906624Z",
     "iopub.status.idle": "2021-02-10T17:20:34.290556Z",
     "shell.execute_reply": "2021-02-10T17:20:34.291103Z"
    },
    "papermill": {
     "duration": 0.471428,
     "end_time": "2021-02-10T17:20:34.291315",
     "exception": false,
     "start_time": "2021-02-10T17:20:33.819887",
     "status": "completed"
    },
    "tags": []
   },
   "outputs": [],
   "source": [
    "y_train_pred = cross_val_predict(DTC, X_train_res, y_train_res, cv=5)"
   ]
  },
  {
   "cell_type": "code",
   "execution_count": 55,
   "metadata": {
    "execution": {
     "iopub.execute_input": "2021-02-10T17:20:34.472018Z",
     "iopub.status.busy": "2021-02-10T17:20:34.471142Z",
     "iopub.status.idle": "2021-02-10T17:20:34.495507Z",
     "shell.execute_reply": "2021-02-10T17:20:34.494925Z"
    },
    "papermill": {
     "duration": 0.112512,
     "end_time": "2021-02-10T17:20:34.495673",
     "exception": false,
     "start_time": "2021-02-10T17:20:34.383161",
     "status": "completed"
    },
    "tags": []
   },
   "outputs": [
    {
     "name": "stdout",
     "output_type": "stream",
     "text": [
      "0.9172832198875407\n",
      "0.9117517281953228\n",
      "0.9145091096850336\n",
      "0.9147668774819826\n"
     ]
    }
   ],
   "source": [
    "print(precision_score(y_train_res, y_train_pred))\n",
    "print(recall_score(y_train_res, y_train_pred))\n",
    "print(f1_score(y_train_res, y_train_pred))\n",
    "print(roc_auc_score(y_train_res, y_train_pred))"
   ]
  },
  {
   "cell_type": "code",
   "execution_count": 56,
   "metadata": {
    "execution": {
     "iopub.execute_input": "2021-02-10T17:20:34.669876Z",
     "iopub.status.busy": "2021-02-10T17:20:34.669199Z",
     "iopub.status.idle": "2021-02-10T17:20:34.765208Z",
     "shell.execute_reply": "2021-02-10T17:20:34.764325Z"
    },
    "papermill": {
     "duration": 0.185618,
     "end_time": "2021-02-10T17:20:34.765422",
     "exception": false,
     "start_time": "2021-02-10T17:20:34.579804",
     "status": "completed"
    },
    "tags": []
   },
   "outputs": [
    {
     "name": "stdout",
     "output_type": "stream",
     "text": [
      "0.9076999012833169\n"
     ]
    }
   ],
   "source": [
    "dt = DTC.fit(X_train_res,y_train_res)\n",
    "dtc_pred = dt.predict(X_test)  #PREDICTION\n",
    "print(accuracy_score(y_test, dtc_pred))\n"
   ]
  },
  {
   "cell_type": "code",
   "execution_count": 57,
   "metadata": {
    "execution": {
     "iopub.execute_input": "2021-02-10T17:20:34.942615Z",
     "iopub.status.busy": "2021-02-10T17:20:34.941901Z",
     "iopub.status.idle": "2021-02-10T17:20:35.145456Z",
     "shell.execute_reply": "2021-02-10T17:20:35.146004Z"
    },
    "papermill": {
     "duration": 0.296354,
     "end_time": "2021-02-10T17:20:35.146201",
     "exception": false,
     "start_time": "2021-02-10T17:20:34.849847",
     "status": "completed"
    },
    "tags": []
   },
   "outputs": [
    {
     "data": {
      "image/png": "[encoded data removed]",
      "text/plain": [
       "<Figure size 360x360 with 2 Axes>"
      ]
     },
     "metadata": {
      "needs_background": "light"
     },
     "output_type": "display_data"
    }
   ],
   "source": [
    "cfm_vpc = confusion_matrix(y_test, dtc_pred)\n",
    "sns.heatmap(cfm_vpc, annot=True,fmt = \".2f\", cmap = \"coolwarm\")\n",
    "fig=plt.gcf()\n",
    "fig.set_size_inches(5,5)\n",
    "plt.show()"
   ]
  },
  {
   "cell_type": "code",
   "execution_count": 58,
   "metadata": {
    "execution": {
     "iopub.execute_input": "2021-02-10T17:20:35.316383Z",
     "iopub.status.busy": "2021-02-10T17:20:35.315633Z",
     "iopub.status.idle": "2021-02-10T17:20:35.467190Z",
     "shell.execute_reply": "2021-02-10T17:20:35.466590Z"
    },
    "papermill": {
     "duration": 0.237678,
     "end_time": "2021-02-10T17:20:35.467366",
     "exception": false,
     "start_time": "2021-02-10T17:20:35.229688",
     "status": "completed"
    },
    "tags": []
   },
   "outputs": [
    {
     "name": "stdout",
     "output_type": "stream",
     "text": [
      "0.9797211660329531\n",
      "0.9088771310993533\n",
      "0.942970417810308\n",
      "0.9052077963189075\n"
     ]
    },
    {
     "data": {
      "image/png": "[encoded data removed]",
      "text/plain": [
       "<Figure size 432x288 with 1 Axes>"
      ]
     },
     "metadata": {
      "needs_background": "light"
     },
     "output_type": "display_data"
    }
   ],
   "source": [
    "print(precision_score(y_test, dtc_pred))\n",
    "print(recall_score(y_test, dtc_pred))\n",
    "print(f1_score(y_test, dtc_pred))\n",
    "print(roc_auc_score(y_test, dtc_pred))\n",
    "fpr, tpr, thresholds = roc_curve(y_test, dtc_pred)\n",
    "plot_roc_curve(fpr, tpr)\n",
    "plt.show()"
   ]
  },
  {
   "cell_type": "markdown",
   "metadata": {
    "papermill": {
     "duration": 0.086767,
     "end_time": "2021-02-10T17:20:35.638812",
     "exception": false,
     "start_time": "2021-02-10T17:20:35.552045",
     "status": "completed"
    },
    "tags": []
   },
   "source": [
    "### Random Forest Classifier"
   ]
  },
  {
   "cell_type": "code",
   "execution_count": 59,
   "metadata": {
    "execution": {
     "iopub.execute_input": "2021-02-10T17:20:35.812866Z",
     "iopub.status.busy": "2021-02-10T17:20:35.812135Z",
     "iopub.status.idle": "2021-02-10T17:20:35.814890Z",
     "shell.execute_reply": "2021-02-10T17:20:35.815418Z"
    },
    "papermill": {
     "duration": 0.092052,
     "end_time": "2021-02-10T17:20:35.815604",
     "exception": false,
     "start_time": "2021-02-10T17:20:35.723552",
     "status": "completed"
    },
    "tags": []
   },
   "outputs": [],
   "source": [
    "# RFC = RandomForestClassifier()\n",
    "\n",
    "\n",
    "# rf_param_grid = {\"max_depth\": [2,3,4,5],\n",
    "#               \"max_features\": [1,2,3,4,5],\n",
    "#               \"min_samples_split\": [2,3,4,5],\n",
    "#               \"min_samples_leaf\": [1,2,3,4,5],\n",
    "#               \"bootstrap\": [False],\n",
    "#               \"n_estimators\" :[50,100,150,200],\n",
    "#               \"criterion\": [\"entropy\"]}\n",
    "\n",
    "# gsRFC = GridSearchCV(RFC,param_grid = rf_param_grid, cv=5, scoring=\"accuracy\", n_jobs= -1, verbose = 2)\n",
    "# gsRFC.fit(X_train_res,y_train_res)\n",
    "# gsRFC.best_estimator_"
   ]
  },
  {
   "cell_type": "code",
   "execution_count": 60,
   "metadata": {
    "execution": {
     "iopub.execute_input": "2021-02-10T17:20:35.991225Z",
     "iopub.status.busy": "2021-02-10T17:20:35.990526Z",
     "iopub.status.idle": "2021-02-10T17:20:35.992988Z",
     "shell.execute_reply": "2021-02-10T17:20:35.993476Z"
    },
    "papermill": {
     "duration": 0.09229,
     "end_time": "2021-02-10T17:20:35.993665",
     "exception": false,
     "start_time": "2021-02-10T17:20:35.901375",
     "status": "completed"
    },
    "tags": []
   },
   "outputs": [],
   "source": [
    "# gsRFC.best_score_"
   ]
  },
  {
   "cell_type": "code",
   "execution_count": 61,
   "metadata": {
    "execution": {
     "iopub.execute_input": "2021-02-10T17:20:36.174716Z",
     "iopub.status.busy": "2021-02-10T17:20:36.174033Z",
     "iopub.status.idle": "2021-02-10T17:20:51.330500Z",
     "shell.execute_reply": "2021-02-10T17:20:51.329902Z"
    },
    "papermill": {
     "duration": 15.244035,
     "end_time": "2021-02-10T17:20:51.330654",
     "exception": false,
     "start_time": "2021-02-10T17:20:36.086619",
     "status": "completed"
    },
    "tags": []
   },
   "outputs": [
    {
     "name": "stdout",
     "output_type": "stream",
     "text": [
      "Scores [0.87830882 0.93308824 0.92647059 0.92019125 0.92423685]\n",
      "Mean 0.9164591491248946\n",
      "Standard Deviation 0.019527539396948988\n"
     ]
    }
   ],
   "source": [
    "RFC = RandomForestClassifier(bootstrap=False, criterion='entropy', max_depth=5,\n",
    "                       max_features=5, n_estimators=200)\n",
    "c_score = cross_val_score(RFC, X_train_res, y_train_res, cv=5, scoring=\"accuracy\")\n",
    "display_scores(c_score)"
   ]
  },
  {
   "cell_type": "code",
   "execution_count": 62,
   "metadata": {
    "execution": {
     "iopub.execute_input": "2021-02-10T17:20:51.511242Z",
     "iopub.status.busy": "2021-02-10T17:20:51.510499Z",
     "iopub.status.idle": "2021-02-10T17:21:06.652353Z",
     "shell.execute_reply": "2021-02-10T17:21:06.652940Z"
    },
    "papermill": {
     "duration": 15.237921,
     "end_time": "2021-02-10T17:21:06.653149",
     "exception": false,
     "start_time": "2021-02-10T17:20:51.415228",
     "status": "completed"
    },
    "tags": []
   },
   "outputs": [],
   "source": [
    "y_train_pred = cross_val_predict(RFC, X_train_res, y_train_res, cv=5)"
   ]
  },
  {
   "cell_type": "code",
   "execution_count": 63,
   "metadata": {
    "execution": {
     "iopub.execute_input": "2021-02-10T17:21:06.834943Z",
     "iopub.status.busy": "2021-02-10T17:21:06.833878Z",
     "iopub.status.idle": "2021-02-10T17:21:06.860258Z",
     "shell.execute_reply": "2021-02-10T17:21:06.860808Z"
    },
    "papermill": {
     "duration": 0.116163,
     "end_time": "2021-02-10T17:21:06.860988",
     "exception": false,
     "start_time": "2021-02-10T17:21:06.744825",
     "status": "completed"
    },
    "tags": []
   },
   "outputs": [
    {
     "name": "stdout",
     "output_type": "stream",
     "text": [
      "0.9078947368421053\n",
      "0.9235181644359465\n",
      "0.9156398104265403\n",
      "0.9149139579349904\n"
     ]
    }
   ],
   "source": [
    "print(precision_score(y_train_res, y_train_pred))\n",
    "print(recall_score(y_train_res, y_train_pred))\n",
    "print(f1_score(y_train_res, y_train_pred))\n",
    "print(roc_auc_score(y_train_res, y_train_pred))"
   ]
  },
  {
   "cell_type": "code",
   "execution_count": 64,
   "metadata": {
    "execution": {
     "iopub.execute_input": "2021-02-10T17:21:07.043559Z",
     "iopub.status.busy": "2021-02-10T17:21:07.042865Z",
     "iopub.status.idle": "2021-02-10T17:21:10.722892Z",
     "shell.execute_reply": "2021-02-10T17:21:10.723620Z"
    },
    "papermill": {
     "duration": 3.774338,
     "end_time": "2021-02-10T17:21:10.723961",
     "exception": false,
     "start_time": "2021-02-10T17:21:06.949623",
     "status": "completed"
    },
    "tags": []
   },
   "outputs": [
    {
     "name": "stdout",
     "output_type": "stream",
     "text": [
      "0.9111549851924975\n"
     ]
    }
   ],
   "source": [
    "rf = RFC.fit(X_train_res,y_train_res)\n",
    "rfc_pred = rf.predict(X_test)  #PREDICTION\n",
    "print(accuracy_score(y_test, rfc_pred))"
   ]
  },
  {
   "cell_type": "code",
   "execution_count": 65,
   "metadata": {
    "execution": {
     "iopub.execute_input": "2021-02-10T17:21:10.908377Z",
     "iopub.status.busy": "2021-02-10T17:21:10.907644Z",
     "iopub.status.idle": "2021-02-10T17:21:11.124879Z",
     "shell.execute_reply": "2021-02-10T17:21:11.125385Z"
    },
    "papermill": {
     "duration": 0.312965,
     "end_time": "2021-02-10T17:21:11.125575",
     "exception": false,
     "start_time": "2021-02-10T17:21:10.812610",
     "status": "completed"
    },
    "tags": []
   },
   "outputs": [
    {
     "data": {
      "image/png": "[encoded data removed]",
      "text/plain": [
       "<Figure size 360x360 with 2 Axes>"
      ]
     },
     "metadata": {
      "needs_background": "light"
     },
     "output_type": "display_data"
    }
   ],
   "source": [
    "cfm_vpc = confusion_matrix(y_test, rfc_pred)\n",
    "sns.heatmap(cfm_vpc, annot=True,fmt = \".2f\", cmap = \"coolwarm\")\n",
    "fig=plt.gcf()\n",
    "fig.set_size_inches(5,5)\n",
    "plt.show()\n"
   ]
  },
  {
   "cell_type": "code",
   "execution_count": 66,
   "metadata": {
    "execution": {
     "iopub.execute_input": "2021-02-10T17:21:11.338072Z",
     "iopub.status.busy": "2021-02-10T17:21:11.336834Z",
     "iopub.status.idle": "2021-02-10T17:21:11.527783Z",
     "shell.execute_reply": "2021-02-10T17:21:11.528350Z"
    },
    "papermill": {
     "duration": 0.315167,
     "end_time": "2021-02-10T17:21:11.528542",
     "exception": false,
     "start_time": "2021-02-10T17:21:11.213375",
     "status": "completed"
    },
    "tags": []
   },
   "outputs": [
    {
     "name": "stdout",
     "output_type": "stream",
     "text": [
      "0.9750156152404748\n",
      "0.9176954732510288\n",
      "0.9454875832828589\n",
      "0.8973092750870528\n"
     ]
    },
    {
     "data": {
      "image/png": "[encoded data removed]",
      "text/plain": [
       "<Figure size 432x288 with 1 Axes>"
      ]
     },
     "metadata": {
      "needs_background": "light"
     },
     "output_type": "display_data"
    }
   ],
   "source": [
    "print(precision_score(y_test, rfc_pred))\n",
    "print(recall_score(y_test, rfc_pred))\n",
    "print(f1_score(y_test, rfc_pred))\n",
    "print(roc_auc_score(y_test, rfc_pred))\n",
    "fpr, tpr, thresholds = roc_curve(y_test, rfc_pred)\n",
    "plot_roc_curve(fpr, tpr)\n",
    "plt.show()"
   ]
  },
  {
   "cell_type": "markdown",
   "metadata": {
    "papermill": {
     "duration": 0.0974,
     "end_time": "2021-02-10T17:21:11.742381",
     "exception": false,
     "start_time": "2021-02-10T17:21:11.644981",
     "status": "completed"
    },
    "tags": []
   },
   "source": [
    "### Logistic Regression"
   ]
  },
  {
   "cell_type": "code",
   "execution_count": 67,
   "metadata": {
    "execution": {
     "iopub.execute_input": "2021-02-10T17:21:11.945094Z",
     "iopub.status.busy": "2021-02-10T17:21:11.944431Z",
     "iopub.status.idle": "2021-02-10T17:21:11.948643Z",
     "shell.execute_reply": "2021-02-10T17:21:11.948036Z"
    },
    "papermill": {
     "duration": 0.105559,
     "end_time": "2021-02-10T17:21:11.948809",
     "exception": false,
     "start_time": "2021-02-10T17:21:11.843250",
     "status": "completed"
    },
    "tags": []
   },
   "outputs": [],
   "source": [
    "# lr_ = LogisticRegression() \n",
    "# lr_param_grid = {'penalty':['l1','l2'],\n",
    "#                 'tol':[1e-4,1e-3,1e-2,1e-5],\n",
    "#                  'C':[0.1, 1, 100],\n",
    "#                  'multi_class':['ovr'],\n",
    "#                  'max_iter':[1000],\n",
    "#                  'solver':['newton_cg','sag','saga','lbfgs']\n",
    "#                 }\n",
    "# gslr = GridSearchCV(lr_,param_grid = lr_param_grid, cv=5, scoring=\"accuracy\", n_jobs= -1, verbose = 2)\n",
    "# gslr.fit(X_train_res,y_train_res)"
   ]
  },
  {
   "cell_type": "code",
   "execution_count": 68,
   "metadata": {
    "execution": {
     "iopub.execute_input": "2021-02-10T17:21:12.149345Z",
     "iopub.status.busy": "2021-02-10T17:21:12.148579Z",
     "iopub.status.idle": "2021-02-10T17:21:12.151701Z",
     "shell.execute_reply": "2021-02-10T17:21:12.151116Z"
    },
    "papermill": {
     "duration": 0.107046,
     "end_time": "2021-02-10T17:21:12.151858",
     "exception": false,
     "start_time": "2021-02-10T17:21:12.044812",
     "status": "completed"
    },
    "tags": []
   },
   "outputs": [],
   "source": [
    "# gslr_best = gslr.best_estimator_\n",
    "# gslr_best"
   ]
  },
  {
   "cell_type": "code",
   "execution_count": 69,
   "metadata": {
    "execution": {
     "iopub.execute_input": "2021-02-10T17:21:12.354841Z",
     "iopub.status.busy": "2021-02-10T17:21:12.353917Z",
     "iopub.status.idle": "2021-02-10T17:21:13.109795Z",
     "shell.execute_reply": "2021-02-10T17:21:13.110958Z"
    },
    "papermill": {
     "duration": 0.860378,
     "end_time": "2021-02-10T17:21:13.111342",
     "exception": false,
     "start_time": "2021-02-10T17:21:12.250964",
     "status": "completed"
    },
    "tags": []
   },
   "outputs": [
    {
     "name": "stdout",
     "output_type": "stream",
     "text": [
      "Scores [0.65808824 0.95147059 0.94926471 0.95917617 0.94887826]\n",
      "Mean 0.8933755922376306\n",
      "Standard Deviation 0.11770218709439907\n"
     ]
    }
   ],
   "source": [
    "lr = LogisticRegression(C=0.1, max_iter=1000, multi_class='ovr', solver='saga',\n",
    "                   tol=0.001) \n",
    "c_score = cross_val_score(lr, X_train_res, y_train_res, cv=5, scoring=\"accuracy\")\n",
    "display_scores(c_score)"
   ]
  },
  {
   "cell_type": "code",
   "execution_count": 70,
   "metadata": {
    "execution": {
     "iopub.execute_input": "2021-02-10T17:21:13.303798Z",
     "iopub.status.busy": "2021-02-10T17:21:13.303106Z",
     "iopub.status.idle": "2021-02-10T17:21:14.074664Z",
     "shell.execute_reply": "2021-02-10T17:21:14.074086Z"
    },
    "papermill": {
     "duration": 0.86994,
     "end_time": "2021-02-10T17:21:14.074819",
     "exception": false,
     "start_time": "2021-02-10T17:21:13.204879",
     "status": "completed"
    },
    "tags": []
   },
   "outputs": [],
   "source": [
    "y_train_pred = cross_val_predict(lr, X_train_res, y_train_res, cv=5)"
   ]
  },
  {
   "cell_type": "code",
   "execution_count": 71,
   "metadata": {
    "execution": {
     "iopub.execute_input": "2021-02-10T17:21:14.270330Z",
     "iopub.status.busy": "2021-02-10T17:21:14.269327Z",
     "iopub.status.idle": "2021-02-10T17:21:14.295096Z",
     "shell.execute_reply": "2021-02-10T17:21:14.293983Z"
    },
    "papermill": {
     "duration": 0.129385,
     "end_time": "2021-02-10T17:21:14.295284",
     "exception": false,
     "start_time": "2021-02-10T17:21:14.165899",
     "status": "completed"
    },
    "tags": []
   },
   "outputs": [
    {
     "name": "stdout",
     "output_type": "stream",
     "text": [
      "0.8631364562118127\n",
      "0.9349904397705545\n",
      "0.8976277887602373\n",
      "0.8933666715693486\n"
     ]
    }
   ],
   "source": [
    "print(precision_score(y_train_res, y_train_pred))\n",
    "print(recall_score(y_train_res, y_train_pred))\n",
    "print(f1_score(y_train_res, y_train_pred))\n",
    "print(roc_auc_score(y_train_res, y_train_pred))\n"
   ]
  },
  {
   "cell_type": "code",
   "execution_count": 72,
   "metadata": {
    "execution": {
     "iopub.execute_input": "2021-02-10T17:21:14.495476Z",
     "iopub.status.busy": "2021-02-10T17:21:14.494313Z",
     "iopub.status.idle": "2021-02-10T17:21:14.649449Z",
     "shell.execute_reply": "2021-02-10T17:21:14.648472Z"
    },
    "papermill": {
     "duration": 0.256319,
     "end_time": "2021-02-10T17:21:14.649656",
     "exception": false,
     "start_time": "2021-02-10T17:21:14.393337",
     "status": "completed"
    },
    "tags": []
   },
   "outputs": [
    {
     "name": "stdout",
     "output_type": "stream",
     "text": [
      "0.8721618953603159\n"
     ]
    }
   ],
   "source": [
    "lrc = lr.fit(X_train_res,y_train_res)\n",
    "lr_pred = lrc.predict(X_test)  #PREDICTION\n",
    "print(accuracy_score(y_test, lr_pred))"
   ]
  },
  {
   "cell_type": "code",
   "execution_count": 73,
   "metadata": {
    "execution": {
     "iopub.execute_input": "2021-02-10T17:21:14.852973Z",
     "iopub.status.busy": "2021-02-10T17:21:14.851755Z",
     "iopub.status.idle": "2021-02-10T17:21:15.079218Z",
     "shell.execute_reply": "2021-02-10T17:21:15.078629Z"
    },
    "papermill": {
     "duration": 0.333921,
     "end_time": "2021-02-10T17:21:15.079381",
     "exception": false,
     "start_time": "2021-02-10T17:21:14.745460",
     "status": "completed"
    },
    "tags": []
   },
   "outputs": [
    {
     "data": {
      "image/png": "[encoded data removed]",
      "text/plain": [
       "<Figure size 360x360 with 2 Axes>"
      ]
     },
     "metadata": {
      "needs_background": "light"
     },
     "output_type": "display_data"
    }
   ],
   "source": [
    "cfm_vpc = confusion_matrix(y_test,lr_pred)\n",
    "sns.heatmap(cfm_vpc, annot=True,fmt = \".2f\", cmap = \"coolwarm\")\n",
    "fig=plt.gcf()\n",
    "fig.set_size_inches(5,5)\n",
    "plt.show()"
   ]
  },
  {
   "cell_type": "code",
   "execution_count": 74,
   "metadata": {
    "execution": {
     "iopub.execute_input": "2021-02-10T17:21:15.279996Z",
     "iopub.status.busy": "2021-02-10T17:21:15.279339Z",
     "iopub.status.idle": "2021-02-10T17:21:15.449321Z",
     "shell.execute_reply": "2021-02-10T17:21:15.448508Z"
    },
    "papermill": {
     "duration": 0.270502,
     "end_time": "2021-02-10T17:21:15.449542",
     "exception": false,
     "start_time": "2021-02-10T17:21:15.179040",
     "status": "completed"
    },
    "tags": []
   },
   "outputs": [
    {
     "name": "stdout",
     "output_type": "stream",
     "text": [
      "0.9276393831553974\n",
      "0.9194591416813639\n",
      "0.9235311485090051\n",
      "0.7720372631483741\n"
     ]
    },
    {
     "data": {
      "image/png": "[encoded data removed]",
      "text/plain": [
       "<Figure size 432x288 with 1 Axes>"
      ]
     },
     "metadata": {
      "needs_background": "light"
     },
     "output_type": "display_data"
    }
   ],
   "source": [
    "print(precision_score(y_test,lr_pred))\n",
    "print(recall_score(y_test,lr_pred))\n",
    "print(f1_score(y_test,lr_pred))\n",
    "print(roc_auc_score(y_test,lr_pred))\n",
    "fpr, tpr, thresholds = roc_curve(y_test,lr_pred)\n",
    "plot_roc_curve(fpr, tpr)\n",
    "plt.show()"
   ]
  },
  {
   "cell_type": "markdown",
   "metadata": {
    "papermill": {
     "duration": 0.096935,
     "end_time": "2021-02-10T17:21:15.645522",
     "exception": false,
     "start_time": "2021-02-10T17:21:15.548587",
     "status": "completed"
    },
    "tags": []
   },
   "source": [
    "## *Decision Tree Classifier and Random Forest are the two classifiers which gave us satisfactory results. Rest classifiers overfitted by a big margin.*"
   ]
  }
 ],
 "metadata": {
  "kernelspec": {
   "display_name": "Python 3",
   "language": "python",
   "name": "python3"
  },
  "language_info": {
   "codemirror_mode": {
    "name": "ipython",
    "version": 3
   },
   "file_extension": ".py",
   "mimetype": "text/x-python",
   "name": "python",
   "nbconvert_exporter": "python",
   "pygments_lexer": "ipython3",
   "version": "3.7.9"
  },
  "papermill": {
   "default_parameters": {},
   "duration": 239.95407,
   "end_time": "2021-02-10T17:21:16.557854",
   "environment_variables": {},
   "exception": null,
   "input_path": "__notebook__.ipynb",
   "output_path": "__notebook__.ipynb",
   "parameters": {},
   "start_time": "2021-02-10T17:17:16.603784",
   "version": "2.2.2"
  }
 },
 "nbformat": 4,
 "nbformat_minor": 4
}
